{
 "cells": [
  {
   "cell_type": "markdown",
   "id": "dabdc09a",
   "metadata": {},
   "source": [
    "# Importing Libraries"
   ]
  },
  {
   "cell_type": "code",
   "execution_count": 3,
   "id": "e9bc41e1",
   "metadata": {},
   "outputs": [],
   "source": [
    "# Import Libraries\n",
    "import pandas as pd\n",
    "import numpy as np\n",
    "import os"
   ]
  },
  {
   "cell_type": "markdown",
   "id": "573d3dbe",
   "metadata": {},
   "source": [
    "# Python Data Types"
   ]
  },
  {
   "cell_type": "code",
   "execution_count": 2,
   "id": "debebb93",
   "metadata": {},
   "outputs": [
    {
     "data": {
      "text/plain": [
       "100"
      ]
     },
     "execution_count": 2,
     "metadata": {},
     "output_type": "execute_result"
    }
   ],
   "source": [
    "# 1.st code of reaching a result of 100\n",
    "x=25\n",
    "y=50\n",
    "x+x+y"
   ]
  },
  {
   "cell_type": "code",
   "execution_count": 2,
   "id": "b7c9e79f",
   "metadata": {},
   "outputs": [
    {
     "data": {
      "text/plain": [
       "100"
      ]
     },
     "execution_count": 2,
     "metadata": {},
     "output_type": "execute_result"
    }
   ],
   "source": [
    "# 2.nd code of reaching a result of 100\n",
    "a=-50\n",
    "b=150\n",
    "a+b"
   ]
  },
  {
   "cell_type": "code",
   "execution_count": 3,
   "id": "ee13db8d",
   "metadata": {},
   "outputs": [
    {
     "data": {
      "text/plain": [
       "100"
      ]
     },
     "execution_count": 3,
     "metadata": {},
     "output_type": "execute_result"
    }
   ],
   "source": [
    "# 3.rd code of reaching a result of 100\n",
    "n=125\n",
    "m=25\n",
    "n-m"
   ]
  },
  {
   "cell_type": "code",
   "execution_count": 7,
   "id": "0329bd19",
   "metadata": {},
   "outputs": [
    {
     "data": {
      "text/plain": [
       "10.825000000000001"
      ]
     },
     "execution_count": 7,
     "metadata": {},
     "output_type": "execute_result"
    }
   ],
   "source": [
    "# 2 floating-point variables divide by each other\n",
    "first=121.24\n",
    "second=11.2\n",
    "float(first)/float(second)"
   ]
  },
  {
   "cell_type": "code",
   "execution_count": 2,
   "id": "9a45faec",
   "metadata": {},
   "outputs": [
    {
     "data": {
      "text/plain": [
       "'sunrise'"
      ]
     },
     "execution_count": 2,
     "metadata": {},
     "output_type": "execute_result"
    }
   ],
   "source": [
    "# a short word made of separate strings\n",
    "first='sun'\n",
    "second='rise'\n",
    "first+second"
   ]
  },
  {
   "cell_type": "code",
   "execution_count": 3,
   "id": "19468de6",
   "metadata": {},
   "outputs": [
    {
     "data": {
      "text/plain": [
       "'One step at a time, but not backwards.'"
      ]
     },
     "execution_count": 3,
     "metadata": {},
     "output_type": "execute_result"
    }
   ],
   "source": [
    "# 2 short sentences made of separate strings\n",
    "first='One step at a time, '\n",
    "second= 'but not backwards.'\n",
    "first+second"
   ]
  },
  {
   "cell_type": "code",
   "execution_count": 4,
   "id": "358a8fe7",
   "metadata": {},
   "outputs": [
    {
     "data": {
      "text/plain": [
       "'I love cats I love cats I love cats I love cats I love cats I love cats I love cats I love cats I love cats I love cats I love cats I love cats I love cats I love cats I love cats I love cats I love cats I love cats I love cats I love cats I love cats I love cats I love cats I love cats I love cats I love cats I love cats I love cats I love cats I love cats I love cats I love cats I love cats I love cats I love cats I love cats I love cats I love cats I love cats I love cats I love cats I love cats I love cats I love cats I love cats I love cats I love cats I love cats I love cats I love cats I love cats I love cats I love cats I love cats I love cats I love cats I love cats I love cats I love cats I love cats I love cats I love cats I love cats I love cats I love cats I love cats I love cats I love cats I love cats I love cats I love cats I love cats I love cats I love cats I love cats I love cats I love cats I love cats I love cats I love cats I love cats I love cats I love cats I love cats I love cats I love cats I love cats I love cats I love cats I love cats I love cats I love cats I love cats I love cats I love cats I love cats I love cats I love cats I love cats I love cats '"
      ]
     },
     "execution_count": 4,
     "metadata": {},
     "output_type": "execute_result"
    }
   ],
   "source": [
    "# include a command that makes a string appear 100 times\n",
    "a= 'I love cats '\n",
    "a*100"
   ]
  },
  {
   "cell_type": "code",
   "execution_count": null,
   "id": "005ce571",
   "metadata": {},
   "outputs": [],
   "source": []
  }
 ],
 "metadata": {
  "kernelspec": {
   "display_name": "Python 3 (ipykernel)",
   "language": "python",
   "name": "python3"
  },
  "language_info": {
   "codemirror_mode": {
    "name": "ipython",
    "version": 3
   },
   "file_extension": ".py",
   "mimetype": "text/x-python",
   "name": "python",
   "nbconvert_exporter": "python",
   "pygments_lexer": "ipython3",
   "version": "3.11.4"
  }
 },
 "nbformat": 4,
 "nbformat_minor": 5
}
