{
 "cells": [
  {
   "cell_type": "markdown",
   "id": "f4a47683",
   "metadata": {},
   "source": [
    "#\n",
    "#\n",
    "# INSTACART Grocery basket analysis\n",
    "#### Analyst: Diana Postica\n",
    "#\n",
    "#\n",
    "## Contents\n",
    "\n",
    "### 1. Import Dataframe\n",
    "### 2. Secutity Implications\n",
    "### 3. Customer Behaviour In Different Geographic Areas\n",
    "#### 3.1 Spending Habits By Region\n",
    "#### 3.2 Brand Loyalty By Region\n",
    "### 4. Customer Activity Segmentation\n",
    "### 5. Most Popular Departments and Products\n",
    "#### 5.1Top Departments\n",
    "#### 5.2 Top Products\n",
    "### 6. Customer Profiling\n",
    "#### 6.1 Order Habits In Conjunction With Age Group And Family Status\n",
    "- Create Age Groups\n",
    "- Find The Relationship Between Age, Marital Status,And Spending Habits\n",
    "- Consumption Distribution By Family Status\n",
    "- Products Consumed According To Family Status\n",
    "- Consumption Distribution By Age\n",
    "#### 6.2 Order Habits In Conjunction With Income\n",
    "### 7. Customers Loyalty Status\n",
    "### 8. Spending Habits Depending On The Time Of The Day \n"
   ]
  },
  {
   "cell_type": "markdown",
   "id": "d2f480ad",
   "metadata": {},
   "source": [
    "# Import Libraries"
   ]
  },
  {
   "cell_type": "code",
   "execution_count": 1,
   "id": "95cdf1b1",
   "metadata": {},
   "outputs": [],
   "source": [
    "import pandas as pd\n",
    "import numpy as np\n",
    "import os\n",
    "import matplotlib.pyplot as plt\n",
    "import seaborn as sns\n",
    "import scipy"
   ]
  },
  {
   "cell_type": "markdown",
   "id": "93f7c2e4",
   "metadata": {},
   "source": [
    "# Import Dataframe"
   ]
  },
  {
   "cell_type": "code",
   "execution_count": 2,
   "id": "be61739b",
   "metadata": {},
   "outputs": [],
   "source": [
    "# Save the folder's adress in the 'path' object\n",
    "path=(r'C:\\Users\\Admin\\Desktop\\Data Tasks\\Data Immersion\\Achievement 4\\Instacart Basket Analysis\\02 data')"
   ]
  },
  {
   "cell_type": "code",
   "execution_count": 3,
   "id": "c2fcaa9e",
   "metadata": {},
   "outputs": [],
   "source": [
    "# Import departments df\n",
    "df_dep=pd.read_csv(os.path.join(path,'Prepared Data','departments_wrangled.csv'),index_col=0)"
   ]
  },
  {
   "cell_type": "code",
   "execution_count": 3,
   "id": "2833b110",
   "metadata": {},
   "outputs": [
    {
     "ename": "FileNotFoundError",
     "evalue": "[Errno 2] No such file or directory: 'C:\\\\Users\\\\Admin\\\\Desktop\\\\Data Tasks\\\\Data Immersion\\\\Achievement 4\\\\Instacart Basket Analysis\\\\02 data\\\\Prepared Data\\\\df_ords_prods_cust_merged.pkl'",
     "output_type": "error",
     "traceback": [
      "\u001b[1;31m---------------------------------------------------------------------------\u001b[0m",
      "\u001b[1;31mFileNotFoundError\u001b[0m                         Traceback (most recent call last)",
      "Cell \u001b[1;32mIn[3], line 2\u001b[0m\n\u001b[0;32m      1\u001b[0m \u001b[38;5;66;03m# Import the most current version of df_ords_prods_cust_merged as df for easier reading \u001b[39;00m\n\u001b[1;32m----> 2\u001b[0m df\u001b[38;5;241m=\u001b[39mpd\u001b[38;5;241m.\u001b[39mread_pickle(os\u001b[38;5;241m.\u001b[39mpath\u001b[38;5;241m.\u001b[39mjoin(path,\u001b[38;5;124m'\u001b[39m\u001b[38;5;124mPrepared Data\u001b[39m\u001b[38;5;124m'\u001b[39m,\u001b[38;5;124m'\u001b[39m\u001b[38;5;124mdf_ords_prods_cust_merged.pkl\u001b[39m\u001b[38;5;124m'\u001b[39m))\n",
      "File \u001b[1;32m~\\anaconda3\\Lib\\site-packages\\pandas\\io\\pickle.py:179\u001b[0m, in \u001b[0;36mread_pickle\u001b[1;34m(filepath_or_buffer, compression, storage_options)\u001b[0m\n\u001b[0;32m    115\u001b[0m \u001b[38;5;250m\u001b[39m\u001b[38;5;124;03m\"\"\"\u001b[39;00m\n\u001b[0;32m    116\u001b[0m \u001b[38;5;124;03mLoad pickled pandas object (or any object) from file.\u001b[39;00m\n\u001b[0;32m    117\u001b[0m \n\u001b[1;32m   (...)\u001b[0m\n\u001b[0;32m    176\u001b[0m \u001b[38;5;124;03m4    4    9\u001b[39;00m\n\u001b[0;32m    177\u001b[0m \u001b[38;5;124;03m\"\"\"\u001b[39;00m\n\u001b[0;32m    178\u001b[0m excs_to_catch \u001b[38;5;241m=\u001b[39m (\u001b[38;5;167;01mAttributeError\u001b[39;00m, \u001b[38;5;167;01mImportError\u001b[39;00m, \u001b[38;5;167;01mModuleNotFoundError\u001b[39;00m, \u001b[38;5;167;01mTypeError\u001b[39;00m)\n\u001b[1;32m--> 179\u001b[0m \u001b[38;5;28;01mwith\u001b[39;00m get_handle(\n\u001b[0;32m    180\u001b[0m     filepath_or_buffer,\n\u001b[0;32m    181\u001b[0m     \u001b[38;5;124m\"\u001b[39m\u001b[38;5;124mrb\u001b[39m\u001b[38;5;124m\"\u001b[39m,\n\u001b[0;32m    182\u001b[0m     compression\u001b[38;5;241m=\u001b[39mcompression,\n\u001b[0;32m    183\u001b[0m     is_text\u001b[38;5;241m=\u001b[39m\u001b[38;5;28;01mFalse\u001b[39;00m,\n\u001b[0;32m    184\u001b[0m     storage_options\u001b[38;5;241m=\u001b[39mstorage_options,\n\u001b[0;32m    185\u001b[0m ) \u001b[38;5;28;01mas\u001b[39;00m handles:\n\u001b[0;32m    186\u001b[0m     \u001b[38;5;66;03m# 1) try standard library Pickle\u001b[39;00m\n\u001b[0;32m    187\u001b[0m     \u001b[38;5;66;03m# 2) try pickle_compat (older pandas version) to handle subclass changes\u001b[39;00m\n\u001b[0;32m    188\u001b[0m     \u001b[38;5;66;03m# 3) try pickle_compat with latin-1 encoding upon a UnicodeDecodeError\u001b[39;00m\n\u001b[0;32m    190\u001b[0m     \u001b[38;5;28;01mtry\u001b[39;00m:\n\u001b[0;32m    191\u001b[0m         \u001b[38;5;66;03m# TypeError for Cython complaints about object.__new__ vs Tick.__new__\u001b[39;00m\n\u001b[0;32m    192\u001b[0m         \u001b[38;5;28;01mtry\u001b[39;00m:\n",
      "File \u001b[1;32m~\\anaconda3\\Lib\\site-packages\\pandas\\io\\common.py:868\u001b[0m, in \u001b[0;36mget_handle\u001b[1;34m(path_or_buf, mode, encoding, compression, memory_map, is_text, errors, storage_options)\u001b[0m\n\u001b[0;32m    859\u001b[0m         handle \u001b[38;5;241m=\u001b[39m \u001b[38;5;28mopen\u001b[39m(\n\u001b[0;32m    860\u001b[0m             handle,\n\u001b[0;32m    861\u001b[0m             ioargs\u001b[38;5;241m.\u001b[39mmode,\n\u001b[1;32m   (...)\u001b[0m\n\u001b[0;32m    864\u001b[0m             newline\u001b[38;5;241m=\u001b[39m\u001b[38;5;124m\"\u001b[39m\u001b[38;5;124m\"\u001b[39m,\n\u001b[0;32m    865\u001b[0m         )\n\u001b[0;32m    866\u001b[0m     \u001b[38;5;28;01melse\u001b[39;00m:\n\u001b[0;32m    867\u001b[0m         \u001b[38;5;66;03m# Binary mode\u001b[39;00m\n\u001b[1;32m--> 868\u001b[0m         handle \u001b[38;5;241m=\u001b[39m \u001b[38;5;28mopen\u001b[39m(handle, ioargs\u001b[38;5;241m.\u001b[39mmode)\n\u001b[0;32m    869\u001b[0m     handles\u001b[38;5;241m.\u001b[39mappend(handle)\n\u001b[0;32m    871\u001b[0m \u001b[38;5;66;03m# Convert BytesIO or file objects passed with an encoding\u001b[39;00m\n",
      "\u001b[1;31mFileNotFoundError\u001b[0m: [Errno 2] No such file or directory: 'C:\\\\Users\\\\Admin\\\\Desktop\\\\Data Tasks\\\\Data Immersion\\\\Achievement 4\\\\Instacart Basket Analysis\\\\02 data\\\\Prepared Data\\\\df_ords_prods_cust_merged.pkl'"
     ]
    }
   ],
   "source": [
    "# Import the most current version of df_ords_prods_cust_merged as df for easier reading \n",
    "df=pd.read_pickle(os.path.join(path,'Prepared Data','df_ords_prods_cust_merged.pkl'))"
   ]
  },
  {
   "cell_type": "code",
   "execution_count": 5,
   "id": "77596c99",
   "metadata": {
    "scrolled": true
   },
   "outputs": [
    {
     "name": "stdout",
     "output_type": "stream",
     "text": [
      "<class 'pandas.core.frame.DataFrame'>\n",
      "RangeIndex: 32404859 entries, 0 to 32404858\n",
      "Data columns (total 29 columns):\n",
      " #   Column                  Dtype  \n",
      "---  ------                  -----  \n",
      " 0   order_id                int32  \n",
      " 1   user_id                 object \n",
      " 2   order_number            int8   \n",
      " 3   orders_day_of_week      int8   \n",
      " 4   order_hour_of_day       int8   \n",
      " 5   days_since_prior_order  float16\n",
      " 6   product_id              int32  \n",
      " 7   add_to_cart_order       int32  \n",
      " 8   reordered               int8   \n",
      " 9   product_name            object \n",
      " 10  aisle_id                int16  \n",
      " 11  department_id           int8   \n",
      " 12  prices                  float32\n",
      " 13  price_label             object \n",
      " 14  busiest_days            object \n",
      " 15  busiest_period_of_day   object \n",
      " 16  max_order               int8   \n",
      " 17  loyalty_flag            object \n",
      " 18  prices_mean             float32\n",
      " 19  spending_flag           object \n",
      " 20  order_median            float16\n",
      " 21  frequency_flag          object \n",
      " 22  gender                  object \n",
      " 23  state                   object \n",
      " 24  age                     int64  \n",
      " 25  date_joined             object \n",
      " 26  n_dependants            int64  \n",
      " 27  fam_status              object \n",
      " 28  income                  int64  \n",
      "dtypes: float16(2), float32(2), int16(1), int32(3), int64(3), int8(6), object(12)\n",
      "memory usage: 4.6+ GB\n"
     ]
    }
   ],
   "source": [
    "# Check memory usage\n",
    "df.info()"
   ]
  },
  {
   "cell_type": "code",
   "execution_count": 6,
   "id": "c532c104",
   "metadata": {},
   "outputs": [],
   "source": [
    "# Reduce memory usage\n",
    "df['prices_mean']=df['prices_mean'].astype('float16')\n",
    "df['age']=df['age'].astype('int8')\n",
    "df['n_dependants']=df['n_dependants'].astype('int8')\n",
    "df['income']=df['income'].astype('int32')"
   ]
  },
  {
   "cell_type": "code",
   "execution_count": 7,
   "id": "28e9521d",
   "metadata": {},
   "outputs": [
    {
     "name": "stdout",
     "output_type": "stream",
     "text": [
      "<class 'pandas.core.frame.DataFrame'>\n",
      "RangeIndex: 32404859 entries, 0 to 32404858\n",
      "Data columns (total 29 columns):\n",
      " #   Column                  Dtype  \n",
      "---  ------                  -----  \n",
      " 0   order_id                int32  \n",
      " 1   user_id                 object \n",
      " 2   order_number            int8   \n",
      " 3   orders_day_of_week      int8   \n",
      " 4   order_hour_of_day       int8   \n",
      " 5   days_since_prior_order  float16\n",
      " 6   product_id              int32  \n",
      " 7   add_to_cart_order       int32  \n",
      " 8   reordered               int8   \n",
      " 9   product_name            object \n",
      " 10  aisle_id                int16  \n",
      " 11  department_id           int8   \n",
      " 12  prices                  float32\n",
      " 13  price_label             object \n",
      " 14  busiest_days            object \n",
      " 15  busiest_period_of_day   object \n",
      " 16  max_order               int8   \n",
      " 17  loyalty_flag            object \n",
      " 18  prices_mean             float16\n",
      " 19  spending_flag           object \n",
      " 20  order_median            float16\n",
      " 21  frequency_flag          object \n",
      " 22  gender                  object \n",
      " 23  state                   object \n",
      " 24  age                     int8   \n",
      " 25  date_joined             object \n",
      " 26  n_dependants            int8   \n",
      " 27  fam_status              object \n",
      " 28  income                  int32  \n",
      "dtypes: float16(3), float32(1), int16(1), int32(4), int8(8), object(12)\n",
      "memory usage: 4.0+ GB\n"
     ]
    }
   ],
   "source": [
    "# Check memory usage\n",
    "df.info()"
   ]
  },
  {
   "cell_type": "markdown",
   "id": "ee771bd8",
   "metadata": {},
   "source": [
    "# Security Implications"
   ]
  },
  {
   "cell_type": "code",
   "execution_count": 8,
   "id": "fc996f5d",
   "metadata": {},
   "outputs": [
    {
     "data": {
      "text/html": [
       "<div>\n",
       "<style scoped>\n",
       "    .dataframe tbody tr th:only-of-type {\n",
       "        vertical-align: middle;\n",
       "    }\n",
       "\n",
       "    .dataframe tbody tr th {\n",
       "        vertical-align: top;\n",
       "    }\n",
       "\n",
       "    .dataframe thead th {\n",
       "        text-align: right;\n",
       "    }\n",
       "</style>\n",
       "<table border=\"1\" class=\"dataframe\">\n",
       "  <thead>\n",
       "    <tr style=\"text-align: right;\">\n",
       "      <th></th>\n",
       "      <th>order_id</th>\n",
       "      <th>user_id</th>\n",
       "      <th>order_number</th>\n",
       "      <th>orders_day_of_week</th>\n",
       "      <th>order_hour_of_day</th>\n",
       "      <th>days_since_prior_order</th>\n",
       "      <th>product_id</th>\n",
       "      <th>add_to_cart_order</th>\n",
       "      <th>reordered</th>\n",
       "      <th>product_name</th>\n",
       "      <th>...</th>\n",
       "      <th>spending_flag</th>\n",
       "      <th>order_median</th>\n",
       "      <th>frequency_flag</th>\n",
       "      <th>gender</th>\n",
       "      <th>state</th>\n",
       "      <th>age</th>\n",
       "      <th>date_joined</th>\n",
       "      <th>n_dependants</th>\n",
       "      <th>fam_status</th>\n",
       "      <th>income</th>\n",
       "    </tr>\n",
       "  </thead>\n",
       "  <tbody>\n",
       "    <tr>\n",
       "      <th>0</th>\n",
       "      <td>2539329</td>\n",
       "      <td>1</td>\n",
       "      <td>1</td>\n",
       "      <td>2</td>\n",
       "      <td>8</td>\n",
       "      <td>NaN</td>\n",
       "      <td>196</td>\n",
       "      <td>1</td>\n",
       "      <td>0</td>\n",
       "      <td>Soda</td>\n",
       "      <td>...</td>\n",
       "      <td>Low spender</td>\n",
       "      <td>20.5</td>\n",
       "      <td>Non-frequent customer</td>\n",
       "      <td>Female</td>\n",
       "      <td>Alabama</td>\n",
       "      <td>31</td>\n",
       "      <td>2/17/2019</td>\n",
       "      <td>3</td>\n",
       "      <td>married</td>\n",
       "      <td>40423</td>\n",
       "    </tr>\n",
       "    <tr>\n",
       "      <th>1</th>\n",
       "      <td>2398795</td>\n",
       "      <td>1</td>\n",
       "      <td>2</td>\n",
       "      <td>3</td>\n",
       "      <td>7</td>\n",
       "      <td>15.0</td>\n",
       "      <td>196</td>\n",
       "      <td>1</td>\n",
       "      <td>1</td>\n",
       "      <td>Soda</td>\n",
       "      <td>...</td>\n",
       "      <td>Low spender</td>\n",
       "      <td>20.5</td>\n",
       "      <td>Non-frequent customer</td>\n",
       "      <td>Female</td>\n",
       "      <td>Alabama</td>\n",
       "      <td>31</td>\n",
       "      <td>2/17/2019</td>\n",
       "      <td>3</td>\n",
       "      <td>married</td>\n",
       "      <td>40423</td>\n",
       "    </tr>\n",
       "    <tr>\n",
       "      <th>2</th>\n",
       "      <td>473747</td>\n",
       "      <td>1</td>\n",
       "      <td>3</td>\n",
       "      <td>3</td>\n",
       "      <td>12</td>\n",
       "      <td>21.0</td>\n",
       "      <td>196</td>\n",
       "      <td>1</td>\n",
       "      <td>1</td>\n",
       "      <td>Soda</td>\n",
       "      <td>...</td>\n",
       "      <td>Low spender</td>\n",
       "      <td>20.5</td>\n",
       "      <td>Non-frequent customer</td>\n",
       "      <td>Female</td>\n",
       "      <td>Alabama</td>\n",
       "      <td>31</td>\n",
       "      <td>2/17/2019</td>\n",
       "      <td>3</td>\n",
       "      <td>married</td>\n",
       "      <td>40423</td>\n",
       "    </tr>\n",
       "    <tr>\n",
       "      <th>3</th>\n",
       "      <td>2254736</td>\n",
       "      <td>1</td>\n",
       "      <td>4</td>\n",
       "      <td>4</td>\n",
       "      <td>7</td>\n",
       "      <td>29.0</td>\n",
       "      <td>196</td>\n",
       "      <td>1</td>\n",
       "      <td>1</td>\n",
       "      <td>Soda</td>\n",
       "      <td>...</td>\n",
       "      <td>Low spender</td>\n",
       "      <td>20.5</td>\n",
       "      <td>Non-frequent customer</td>\n",
       "      <td>Female</td>\n",
       "      <td>Alabama</td>\n",
       "      <td>31</td>\n",
       "      <td>2/17/2019</td>\n",
       "      <td>3</td>\n",
       "      <td>married</td>\n",
       "      <td>40423</td>\n",
       "    </tr>\n",
       "    <tr>\n",
       "      <th>4</th>\n",
       "      <td>431534</td>\n",
       "      <td>1</td>\n",
       "      <td>5</td>\n",
       "      <td>4</td>\n",
       "      <td>15</td>\n",
       "      <td>28.0</td>\n",
       "      <td>196</td>\n",
       "      <td>1</td>\n",
       "      <td>1</td>\n",
       "      <td>Soda</td>\n",
       "      <td>...</td>\n",
       "      <td>Low spender</td>\n",
       "      <td>20.5</td>\n",
       "      <td>Non-frequent customer</td>\n",
       "      <td>Female</td>\n",
       "      <td>Alabama</td>\n",
       "      <td>31</td>\n",
       "      <td>2/17/2019</td>\n",
       "      <td>3</td>\n",
       "      <td>married</td>\n",
       "      <td>40423</td>\n",
       "    </tr>\n",
       "  </tbody>\n",
       "</table>\n",
       "<p>5 rows × 29 columns</p>\n",
       "</div>"
      ],
      "text/plain": [
       "   order_id user_id  order_number  orders_day_of_week  order_hour_of_day  \\\n",
       "0   2539329       1             1                   2                  8   \n",
       "1   2398795       1             2                   3                  7   \n",
       "2    473747       1             3                   3                 12   \n",
       "3   2254736       1             4                   4                  7   \n",
       "4    431534       1             5                   4                 15   \n",
       "\n",
       "   days_since_prior_order  product_id  add_to_cart_order  reordered  \\\n",
       "0                     NaN         196                  1          0   \n",
       "1                    15.0         196                  1          1   \n",
       "2                    21.0         196                  1          1   \n",
       "3                    29.0         196                  1          1   \n",
       "4                    28.0         196                  1          1   \n",
       "\n",
       "  product_name  ...  spending_flag  order_median         frequency_flag  \\\n",
       "0         Soda  ...    Low spender          20.5  Non-frequent customer   \n",
       "1         Soda  ...    Low spender          20.5  Non-frequent customer   \n",
       "2         Soda  ...    Low spender          20.5  Non-frequent customer   \n",
       "3         Soda  ...    Low spender          20.5  Non-frequent customer   \n",
       "4         Soda  ...    Low spender          20.5  Non-frequent customer   \n",
       "\n",
       "   gender    state age  date_joined n_dependants  fam_status income  \n",
       "0  Female  Alabama  31    2/17/2019            3     married  40423  \n",
       "1  Female  Alabama  31    2/17/2019            3     married  40423  \n",
       "2  Female  Alabama  31    2/17/2019            3     married  40423  \n",
       "3  Female  Alabama  31    2/17/2019            3     married  40423  \n",
       "4  Female  Alabama  31    2/17/2019            3     married  40423  \n",
       "\n",
       "[5 rows x 29 columns]"
      ]
     },
     "execution_count": 8,
     "metadata": {},
     "output_type": "execute_result"
    }
   ],
   "source": [
    "# View dataframe\n",
    "df.head()"
   ]
  },
  {
   "cell_type": "code",
   "execution_count": 9,
   "id": "1ede0e93",
   "metadata": {},
   "outputs": [
    {
     "data": {
      "text/plain": [
       "Index(['order_id', 'user_id', 'order_number', 'orders_day_of_week',\n",
       "       'order_hour_of_day', 'days_since_prior_order', 'product_id',\n",
       "       'add_to_cart_order', 'reordered', 'product_name', 'aisle_id',\n",
       "       'department_id', 'prices', 'price_label', 'busiest_days',\n",
       "       'busiest_period_of_day', 'max_order', 'loyalty_flag', 'prices_mean',\n",
       "       'spending_flag', 'order_median', 'frequency_flag', 'gender', 'state',\n",
       "       'age', 'date_joined', 'n_dependants', 'fam_status', 'income'],\n",
       "      dtype='object')"
      ]
     },
     "execution_count": 9,
     "metadata": {},
     "output_type": "execute_result"
    }
   ],
   "source": [
    "# List the columns in the dataframe\n",
    "df.columns"
   ]
  },
  {
   "cell_type": "markdown",
   "id": "d218ca6f",
   "metadata": {},
   "source": [
    "#### As seen above, the data frame includes information such as customers' location, age, gender, family status and income. Since this information contains so much personal detail, it can be easily tracked and found. We initially had access to customers' first and last names in this dataframe, but due to customers' security and privacy priority, those columns were excluded. Without both, data security is ensured and analysis is still unaffected as we have the user_id column sufficient to run healthy and secure insights."
   ]
  },
  {
   "cell_type": "markdown",
   "id": "61969fcd",
   "metadata": {},
   "source": [
    "#  Customer Behavior In Different Geographic Areas"
   ]
  },
  {
   "cell_type": "code",
   "execution_count": 10,
   "id": "bbee032c",
   "metadata": {},
   "outputs": [],
   "source": [
    "# Create flag for different geographic areas in USA\n",
    "df.loc[df['state'].isin(['Maine', 'New Hampshire', 'Vermont', 'Massachusetts', 'Rhode Island', 'Connecticut', 'New York', 'Pennsylvania', 'New Jersey']), 'geographic_area'] = 'Northeast'"
   ]
  },
  {
   "cell_type": "code",
   "execution_count": 11,
   "id": "c62d446b",
   "metadata": {},
   "outputs": [],
   "source": [
    "df.loc[df['state'].isin(['Wisconsin','Michigan','Illinois','Indiana','Ohio','North Dakota','South Dakota','Nebraska','Kansas','Minnesota','Iowa','Missouri']), 'geographic_area'] = 'Midwest'"
   ]
  },
  {
   "cell_type": "code",
   "execution_count": 12,
   "id": "aa9f7e86",
   "metadata": {},
   "outputs": [],
   "source": [
    "df.loc[df['state'].isin(['Delaware','Maryland','District of Columbia','Virginia','West Virginia','North Carolina','South Carolina','Georgia','Florida','Kentucky','Tennessee','Mississippi','Alabama','Oklahoma','Texas','Arkansas','Louisiana']), 'geographic_area'] = 'South'"
   ]
  },
  {
   "cell_type": "code",
   "execution_count": 13,
   "id": "84cc37cc",
   "metadata": {},
   "outputs": [],
   "source": [
    "df.loc[df['state'].isin(['Idaho','Montana','Wyoming','Nevada','Utah','Colorado','Arizona','New Mexico','Alaska','Washington','Oregon','California','Hawaii']), 'geographic_area'] = 'West'"
   ]
  },
  {
   "cell_type": "code",
   "execution_count": 14,
   "id": "4969a535",
   "metadata": {
    "scrolled": true
   },
   "outputs": [
    {
     "data": {
      "text/plain": [
       "geographic_area\n",
       "South        10791885\n",
       "West          8292913\n",
       "Midwest       7597325\n",
       "Northeast     5722736\n",
       "Name: count, dtype: int64"
      ]
     },
     "execution_count": 14,
     "metadata": {},
     "output_type": "execute_result"
    }
   ],
   "source": [
    "# Count the users across reagions\n",
    "df['geographic_area'].value_counts(dropna=False)"
   ]
  },
  {
   "cell_type": "markdown",
   "id": "a355b184",
   "metadata": {},
   "source": [
    "## Spending Habits by Region"
   ]
  },
  {
   "cell_type": "code",
   "execution_count": 15,
   "id": "f0d7822e",
   "metadata": {},
   "outputs": [
    {
     "data": {
      "text/html": [
       "<div>\n",
       "<style scoped>\n",
       "    .dataframe tbody tr th:only-of-type {\n",
       "        vertical-align: middle;\n",
       "    }\n",
       "\n",
       "    .dataframe tbody tr th {\n",
       "        vertical-align: top;\n",
       "    }\n",
       "\n",
       "    .dataframe thead th {\n",
       "        text-align: right;\n",
       "    }\n",
       "</style>\n",
       "<table border=\"1\" class=\"dataframe\">\n",
       "  <thead>\n",
       "    <tr style=\"text-align: right;\">\n",
       "      <th>spending_flag</th>\n",
       "      <th>High spender</th>\n",
       "      <th>Low spender</th>\n",
       "    </tr>\n",
       "    <tr>\n",
       "      <th>geographic_area</th>\n",
       "      <th></th>\n",
       "      <th></th>\n",
       "    </tr>\n",
       "  </thead>\n",
       "  <tbody>\n",
       "    <tr>\n",
       "      <th>Midwest</th>\n",
       "      <td>155932</td>\n",
       "      <td>7441350</td>\n",
       "    </tr>\n",
       "    <tr>\n",
       "      <th>Northeast</th>\n",
       "      <td>108180</td>\n",
       "      <td>5614511</td>\n",
       "    </tr>\n",
       "    <tr>\n",
       "      <th>South</th>\n",
       "      <td>209481</td>\n",
       "      <td>10582194</td>\n",
       "    </tr>\n",
       "    <tr>\n",
       "      <th>West</th>\n",
       "      <td>160271</td>\n",
       "      <td>8132559</td>\n",
       "    </tr>\n",
       "  </tbody>\n",
       "</table>\n",
       "</div>"
      ],
      "text/plain": [
       "spending_flag    High spender  Low spender\n",
       "geographic_area                           \n",
       "Midwest                155932      7441350\n",
       "Northeast              108180      5614511\n",
       "South                  209481     10582194\n",
       "West                   160271      8132559"
      ]
     },
     "execution_count": 15,
     "metadata": {},
     "output_type": "execute_result"
    }
   ],
   "source": [
    "# Display the users according to their spending habits\n",
    "crosstab = pd.crosstab(df['geographic_area'], df['spending_flag'], dropna = False)\n",
    "crosstab"
   ]
  },
  {
   "cell_type": "code",
   "execution_count": 16,
   "id": "782c45aa",
   "metadata": {
    "scrolled": true
   },
   "outputs": [
    {
     "data": {
      "text/plain": [
       "<Axes: xlabel='geographic_area'>"
      ]
     },
     "execution_count": 16,
     "metadata": {},
     "output_type": "execute_result"
    },
    {
     "data": {
      "image/png": "[encoded data removed]",
      "text/plain": [
       "<Figure size 640x480 with 1 Axes>"
      ]
     },
     "metadata": {},
     "output_type": "display_data"
    }
   ],
   "source": [
    "# Visualize the results with the help of a bar chart\n",
    "crosstab.plot(kind='bar')"
   ]
  },
  {
   "cell_type": "code",
   "execution_count": 17,
   "id": "7d3f582c",
   "metadata": {},
   "outputs": [
    {
     "data": {
      "text/html": [
       "<div>\n",
       "<style scoped>\n",
       "    .dataframe tbody tr th:only-of-type {\n",
       "        vertical-align: middle;\n",
       "    }\n",
       "\n",
       "    .dataframe tbody tr th {\n",
       "        vertical-align: top;\n",
       "    }\n",
       "\n",
       "    .dataframe thead th {\n",
       "        text-align: right;\n",
       "    }\n",
       "</style>\n",
       "<table border=\"1\" class=\"dataframe\">\n",
       "  <thead>\n",
       "    <tr style=\"text-align: right;\">\n",
       "      <th>spending_flag</th>\n",
       "      <th>High spender</th>\n",
       "      <th>Low spender</th>\n",
       "    </tr>\n",
       "    <tr>\n",
       "      <th>geographic_area</th>\n",
       "      <th></th>\n",
       "      <th></th>\n",
       "    </tr>\n",
       "  </thead>\n",
       "  <tbody>\n",
       "    <tr>\n",
       "      <th>Midwest</th>\n",
       "      <td>2.052471</td>\n",
       "      <td>97.947529</td>\n",
       "    </tr>\n",
       "    <tr>\n",
       "      <th>Northeast</th>\n",
       "      <td>1.890369</td>\n",
       "      <td>98.109631</td>\n",
       "    </tr>\n",
       "    <tr>\n",
       "      <th>South</th>\n",
       "      <td>1.941135</td>\n",
       "      <td>98.058865</td>\n",
       "    </tr>\n",
       "    <tr>\n",
       "      <th>West</th>\n",
       "      <td>1.932645</td>\n",
       "      <td>98.067355</td>\n",
       "    </tr>\n",
       "  </tbody>\n",
       "</table>\n",
       "</div>"
      ],
      "text/plain": [
       "spending_flag    High spender  Low spender\n",
       "geographic_area                           \n",
       "Midwest              2.052471    97.947529\n",
       "Northeast            1.890369    98.109631\n",
       "South                1.941135    98.058865\n",
       "West                 1.932645    98.067355"
      ]
     },
     "execution_count": 17,
     "metadata": {},
     "output_type": "execute_result"
    }
   ],
   "source": [
    "#for a better understanding of the data transfor the results to percentage\n",
    "perctable=crosstab.div(crosstab.sum(axis=1),axis=0)*100\n",
    "perctable"
   ]
  },
  {
   "cell_type": "code",
   "execution_count": 18,
   "id": "8eeb5240",
   "metadata": {},
   "outputs": [
    {
     "data": {
      "image/png": "[encoded data removed]",
      "text/plain": [
       "<Figure size 800x400 with 1 Axes>"
      ]
     },
     "metadata": {},
     "output_type": "display_data"
    }
   ],
   "source": [
    "# Call the barchart this time horizontally and with %\n",
    "spending_flag_bar=perctable.plot(kind='barh',stacked=True,color=['#ECAA01','#0AAD0A'],figsize=(8, 4),legend=None)\n",
    "\n",
    "# Remove y-label\n",
    "spending_flag_bar.set_ylabel('')\n",
    "\n",
    "# Set the font size for tick labels\n",
    "spending_flag_bar.tick_params(axis='both', labelsize=12)\n",
    "\n",
    "# Remove borderlines\n",
    "spending_flag_bar.spines['top'].set_visible(False)\n",
    "spending_flag_bar.spines['right'].set_visible(False)"
   ]
  },
  {
   "cell_type": "code",
   "execution_count": 19,
   "id": "fa42fd92",
   "metadata": {},
   "outputs": [],
   "source": [
    "#Export the chart as png file\n",
    "spending_flag_bar.figure.savefig(r'C:\\Users\\Admin\\Desktop\\Data Tasks\\Data Immersion\\Achievement 4\\Instacart Basket Analysis\\04 Analysis\\Visualizations\\spending_flag_bar.png',bbox_inches='tight',facecolor='#FAF1E5',dpi=200,transparent=True)"
   ]
  },
  {
   "cell_type": "markdown",
   "id": "356c2bc0",
   "metadata": {},
   "source": [
    "## Brand Loyalty by Region"
   ]
  },
  {
   "cell_type": "code",
   "execution_count": 26,
   "id": "6ccaff93",
   "metadata": {
    "scrolled": true
   },
   "outputs": [
    {
     "data": {
      "text/plain": [
       "frequency_flag\n",
       "Frequent customer        21204476\n",
       "Regular customer          6865113\n",
       "Non-frequent customer     2894975\n",
       "Name: count, dtype: int64"
      ]
     },
     "execution_count": 26,
     "metadata": {},
     "output_type": "execute_result"
    }
   ],
   "source": [
    "df_high['frequency_flag'].value_counts()"
   ]
  },
  {
   "cell_type": "code",
   "execution_count": 91,
   "id": "0f7472c9",
   "metadata": {},
   "outputs": [
    {
     "data": {
      "image/png": "[encoded data removed]",
      "text/plain": [
       "<Figure size 640x480 with 1 Axes>"
      ]
     },
     "metadata": {},
     "output_type": "display_data"
    }
   ],
   "source": [
    "bar_frequency_flag_counts=df_high['frequency_flag'].value_counts().plot.bar(color=['#FF7009','#BA0239','#003D29'])\n",
    "\n",
    "# # Remove x-label\n",
    "bar_frequency_flag_counts.set_xlabel('')\n",
    "\n",
    "# Set custom labels for the x-axis\n",
    "department_name=['Frequent','Regular','Non-frequent']\n",
    "bar_frequency_flag_counts.set_xticklabels(department_name, rotation=0)\n",
    "\n",
    "# Remove borderlines\n",
    "bar_frequency_flag_counts.spines['top'].set_visible(False)\n",
    "bar_frequency_flag_counts.spines['right'].set_visible(False)"
   ]
  },
  {
   "cell_type": "code",
   "execution_count": 92,
   "id": "c81bca2c",
   "metadata": {},
   "outputs": [],
   "source": [
    "#Export the chart as png file\n",
    "bar_frequency_flag_counts.figure.savefig(r'C:\\Users\\Admin\\Desktop\\Data Tasks\\Data Immersion\\Achievement 4\\Instacart Basket Analysis\\04 Analysis\\Visualizations\\bar_frequency_flag_counts.png',bbox_inches='tight',facecolor='#FAF1E5',dpi=200,transparent=True)"
   ]
  },
  {
   "cell_type": "code",
   "execution_count": 29,
   "id": "e7c79470",
   "metadata": {
    "scrolled": true
   },
   "outputs": [
    {
     "data": {
      "text/html": [
       "<div>\n",
       "<style scoped>\n",
       "    .dataframe tbody tr th:only-of-type {\n",
       "        vertical-align: middle;\n",
       "    }\n",
       "\n",
       "    .dataframe tbody tr th {\n",
       "        vertical-align: top;\n",
       "    }\n",
       "\n",
       "    .dataframe thead th {\n",
       "        text-align: right;\n",
       "    }\n",
       "</style>\n",
       "<table border=\"1\" class=\"dataframe\">\n",
       "  <thead>\n",
       "    <tr style=\"text-align: right;\">\n",
       "      <th>frequency_flag</th>\n",
       "      <th>Frequent customer</th>\n",
       "      <th>Non-frequent customer</th>\n",
       "      <th>Regular customer</th>\n",
       "    </tr>\n",
       "    <tr>\n",
       "      <th>geographic_area</th>\n",
       "      <th></th>\n",
       "      <th></th>\n",
       "      <th></th>\n",
       "    </tr>\n",
       "  </thead>\n",
       "  <tbody>\n",
       "    <tr>\n",
       "      <th>Midwest</th>\n",
       "      <td>5017709</td>\n",
       "      <td>863419</td>\n",
       "      <td>1716197</td>\n",
       "    </tr>\n",
       "    <tr>\n",
       "      <th>Northeast</th>\n",
       "      <td>3804566</td>\n",
       "      <td>630182</td>\n",
       "      <td>1287988</td>\n",
       "    </tr>\n",
       "    <tr>\n",
       "      <th>South</th>\n",
       "      <td>7192372</td>\n",
       "      <td>1215088</td>\n",
       "      <td>2384420</td>\n",
       "    </tr>\n",
       "    <tr>\n",
       "      <th>West</th>\n",
       "      <td>5545206</td>\n",
       "      <td>927748</td>\n",
       "      <td>1819959</td>\n",
       "    </tr>\n",
       "  </tbody>\n",
       "</table>\n",
       "</div>"
      ],
      "text/plain": [
       "frequency_flag   Frequent customer  Non-frequent customer  Regular customer\n",
       "geographic_area                                                            \n",
       "Midwest                    5017709                 863419           1716197\n",
       "Northeast                  3804566                 630182           1287988\n",
       "South                      7192372                1215088           2384420\n",
       "West                       5545206                 927748           1819959"
      ]
     },
     "execution_count": 29,
     "metadata": {},
     "output_type": "execute_result"
    }
   ],
   "source": [
    "crosstab_frequency_flag=pd.crosstab(df['geographic_area'], df['frequency_flag'], dropna = False)\n",
    "crosstab_frequency_flag"
   ]
  },
  {
   "cell_type": "code",
   "execution_count": 89,
   "id": "f73b93b6",
   "metadata": {},
   "outputs": [
    {
     "data": {
      "image/png": "[encoded data removed]",
      "text/plain": [
       "<Figure size 800x400 with 1 Axes>"
      ]
     },
     "metadata": {},
     "output_type": "display_data"
    }
   ],
   "source": [
    "#calling the barchart this time horizontally and with %\n",
    "barh_frequency_regions=crosstab_frequency_flag.plot(kind='barh',stacked=True,color=['#FF7009','#003D29','#BA0239'],figsize=(8, 4))\n",
    "\n",
    "# Remove y-label\n",
    "barh_frequency_regions.set_ylabel('')\n",
    "\n",
    "# Set the x-axis label to \"Frequency\"\n",
    "plt.xlabel('Frequency')\n",
    "\n",
    "plt.legend('')\n",
    "\n",
    "# Remove borderlines\n",
    "barh_frequency_regions.spines['top'].set_visible(False)\n",
    "barh_frequency_regions.spines['right'].set_visible(False)"
   ]
  },
  {
   "cell_type": "code",
   "execution_count": 31,
   "id": "e44569e4",
   "metadata": {},
   "outputs": [],
   "source": [
    "#Export the chart as png file\n",
    "barh_frequency_regions.figure.savefig(r'C:\\Users\\Admin\\Desktop\\Data Tasks\\Data Immersion\\Achievement 4\\Instacart Basket Analysis\\04 Analysis\\Visualizations\\barh_frequency_regions.png',bbox_inches='tight',facecolor='#FAF1E5',dpi=200,transparent=True)"
   ]
  },
  {
   "cell_type": "markdown",
   "id": "5667fe18",
   "metadata": {},
   "source": [
    "# Customer Activity Segmentation"
   ]
  },
  {
   "cell_type": "code",
   "execution_count": 21,
   "id": "9a0bbec6",
   "metadata": {},
   "outputs": [],
   "source": [
    "# Create a flag to mark the customers with a number of orders smaller than 5\n",
    "low_activity=df.loc[df['max_order']< 5, 'customer_activity'] = 'Low activity'"
   ]
  },
  {
   "cell_type": "code",
   "execution_count": 22,
   "id": "7f66ad77",
   "metadata": {},
   "outputs": [],
   "source": [
    "# Create a flag to mark the customers with number of orders greater or equal to 5\n",
    "high_activity=df.loc[df['max_order']>= 5, 'customer_activity'] = 'High activity'"
   ]
  },
  {
   "cell_type": "code",
   "execution_count": 23,
   "id": "8bc73dd7",
   "metadata": {},
   "outputs": [
    {
     "data": {
      "text/html": [
       "<div>\n",
       "<style scoped>\n",
       "    .dataframe tbody tr th:only-of-type {\n",
       "        vertical-align: middle;\n",
       "    }\n",
       "\n",
       "    .dataframe tbody tr th {\n",
       "        vertical-align: top;\n",
       "    }\n",
       "\n",
       "    .dataframe thead th {\n",
       "        text-align: right;\n",
       "    }\n",
       "</style>\n",
       "<table border=\"1\" class=\"dataframe\">\n",
       "  <thead>\n",
       "    <tr style=\"text-align: right;\">\n",
       "      <th></th>\n",
       "      <th>max_order</th>\n",
       "      <th>customer_activity</th>\n",
       "    </tr>\n",
       "  </thead>\n",
       "  <tbody>\n",
       "    <tr>\n",
       "      <th>0</th>\n",
       "      <td>10</td>\n",
       "      <td>High activity</td>\n",
       "    </tr>\n",
       "    <tr>\n",
       "      <th>1</th>\n",
       "      <td>10</td>\n",
       "      <td>High activity</td>\n",
       "    </tr>\n",
       "    <tr>\n",
       "      <th>2</th>\n",
       "      <td>10</td>\n",
       "      <td>High activity</td>\n",
       "    </tr>\n",
       "    <tr>\n",
       "      <th>3</th>\n",
       "      <td>10</td>\n",
       "      <td>High activity</td>\n",
       "    </tr>\n",
       "    <tr>\n",
       "      <th>4</th>\n",
       "      <td>10</td>\n",
       "      <td>High activity</td>\n",
       "    </tr>\n",
       "    <tr>\n",
       "      <th>...</th>\n",
       "      <td>...</td>\n",
       "      <td>...</td>\n",
       "    </tr>\n",
       "    <tr>\n",
       "      <th>32404854</th>\n",
       "      <td>26</td>\n",
       "      <td>High activity</td>\n",
       "    </tr>\n",
       "    <tr>\n",
       "      <th>32404855</th>\n",
       "      <td>4</td>\n",
       "      <td>Low activity</td>\n",
       "    </tr>\n",
       "    <tr>\n",
       "      <th>32404856</th>\n",
       "      <td>4</td>\n",
       "      <td>Low activity</td>\n",
       "    </tr>\n",
       "    <tr>\n",
       "      <th>32404857</th>\n",
       "      <td>4</td>\n",
       "      <td>Low activity</td>\n",
       "    </tr>\n",
       "    <tr>\n",
       "      <th>32404858</th>\n",
       "      <td>4</td>\n",
       "      <td>Low activity</td>\n",
       "    </tr>\n",
       "  </tbody>\n",
       "</table>\n",
       "<p>32404859 rows × 2 columns</p>\n",
       "</div>"
      ],
      "text/plain": [
       "          max_order customer_activity\n",
       "0                10     High activity\n",
       "1                10     High activity\n",
       "2                10     High activity\n",
       "3                10     High activity\n",
       "4                10     High activity\n",
       "...             ...               ...\n",
       "32404854         26     High activity\n",
       "32404855          4      Low activity\n",
       "32404856          4      Low activity\n",
       "32404857          4      Low activity\n",
       "32404858          4      Low activity\n",
       "\n",
       "[32404859 rows x 2 columns]"
      ]
     },
     "execution_count": 23,
     "metadata": {},
     "output_type": "execute_result"
    }
   ],
   "source": [
    "# Check the new column\n",
    "df[['max_order','customer_activity']]"
   ]
  },
  {
   "cell_type": "code",
   "execution_count": 24,
   "id": "20dd2ee6",
   "metadata": {},
   "outputs": [
    {
     "data": {
      "text/plain": [
       "customer_activity\n",
       "High activity    30964564\n",
       "Low activity      1440295\n",
       "Name: count, dtype: int64"
      ]
     },
     "execution_count": 24,
     "metadata": {},
     "output_type": "execute_result"
    }
   ],
   "source": [
    "# Display the distribution of activity\n",
    "df['customer_activity'].value_counts()"
   ]
  },
  {
   "cell_type": "code",
   "execution_count": 25,
   "id": "708f800e",
   "metadata": {},
   "outputs": [],
   "source": [
    "# Create a subset with the high activity\n",
    "df_high=df[df['customer_activity']=='High activity']"
   ]
  },
  {
   "cell_type": "code",
   "execution_count": 32,
   "id": "1d7cf6d0",
   "metadata": {
    "scrolled": true
   },
   "outputs": [
    {
     "data": {
      "text/plain": [
       "(30964564, 31)"
      ]
     },
     "execution_count": 32,
     "metadata": {},
     "output_type": "execute_result"
    }
   ],
   "source": [
    "df_high.shape"
   ]
  },
  {
   "cell_type": "code",
   "execution_count": null,
   "id": "ada4b8d4",
   "metadata": {},
   "outputs": [],
   "source": [
    "# Export new dataframe \n",
    "df_high.to_pickle(os.path.join(path,'Prepared Data','df_high_activity_cust.pkl'))"
   ]
  },
  {
   "cell_type": "markdown",
   "id": "f1c189ae",
   "metadata": {},
   "source": [
    "# Most Popular Departments and Products"
   ]
  },
  {
   "cell_type": "markdown",
   "id": "23508719",
   "metadata": {},
   "source": [
    "## Top Departments"
   ]
  },
  {
   "cell_type": "code",
   "execution_count": 33,
   "id": "66b8aada",
   "metadata": {},
   "outputs": [
    {
     "data": {
      "text/html": [
       "<div>\n",
       "<style scoped>\n",
       "    .dataframe tbody tr th:only-of-type {\n",
       "        vertical-align: middle;\n",
       "    }\n",
       "\n",
       "    .dataframe tbody tr th {\n",
       "        vertical-align: top;\n",
       "    }\n",
       "\n",
       "    .dataframe thead th {\n",
       "        text-align: right;\n",
       "    }\n",
       "</style>\n",
       "<table border=\"1\" class=\"dataframe\">\n",
       "  <thead>\n",
       "    <tr style=\"text-align: right;\">\n",
       "      <th></th>\n",
       "      <th>department</th>\n",
       "    </tr>\n",
       "  </thead>\n",
       "  <tbody>\n",
       "    <tr>\n",
       "      <th>1</th>\n",
       "      <td>frozen</td>\n",
       "    </tr>\n",
       "    <tr>\n",
       "      <th>2</th>\n",
       "      <td>other</td>\n",
       "    </tr>\n",
       "    <tr>\n",
       "      <th>3</th>\n",
       "      <td>bakery</td>\n",
       "    </tr>\n",
       "    <tr>\n",
       "      <th>4</th>\n",
       "      <td>produce</td>\n",
       "    </tr>\n",
       "    <tr>\n",
       "      <th>5</th>\n",
       "      <td>alcohol</td>\n",
       "    </tr>\n",
       "    <tr>\n",
       "      <th>6</th>\n",
       "      <td>international</td>\n",
       "    </tr>\n",
       "    <tr>\n",
       "      <th>7</th>\n",
       "      <td>beverages</td>\n",
       "    </tr>\n",
       "    <tr>\n",
       "      <th>8</th>\n",
       "      <td>pets</td>\n",
       "    </tr>\n",
       "    <tr>\n",
       "      <th>9</th>\n",
       "      <td>dry goods pasta</td>\n",
       "    </tr>\n",
       "    <tr>\n",
       "      <th>10</th>\n",
       "      <td>bulk</td>\n",
       "    </tr>\n",
       "    <tr>\n",
       "      <th>11</th>\n",
       "      <td>personal care</td>\n",
       "    </tr>\n",
       "    <tr>\n",
       "      <th>12</th>\n",
       "      <td>meat seafood</td>\n",
       "    </tr>\n",
       "    <tr>\n",
       "      <th>13</th>\n",
       "      <td>pantry</td>\n",
       "    </tr>\n",
       "    <tr>\n",
       "      <th>14</th>\n",
       "      <td>breakfast</td>\n",
       "    </tr>\n",
       "    <tr>\n",
       "      <th>15</th>\n",
       "      <td>canned goods</td>\n",
       "    </tr>\n",
       "    <tr>\n",
       "      <th>16</th>\n",
       "      <td>dairy eggs</td>\n",
       "    </tr>\n",
       "    <tr>\n",
       "      <th>17</th>\n",
       "      <td>household</td>\n",
       "    </tr>\n",
       "    <tr>\n",
       "      <th>18</th>\n",
       "      <td>babies</td>\n",
       "    </tr>\n",
       "    <tr>\n",
       "      <th>19</th>\n",
       "      <td>snacks</td>\n",
       "    </tr>\n",
       "    <tr>\n",
       "      <th>20</th>\n",
       "      <td>deli</td>\n",
       "    </tr>\n",
       "    <tr>\n",
       "      <th>21</th>\n",
       "      <td>missing</td>\n",
       "    </tr>\n",
       "  </tbody>\n",
       "</table>\n",
       "</div>"
      ],
      "text/plain": [
       "         department\n",
       "1            frozen\n",
       "2             other\n",
       "3            bakery\n",
       "4           produce\n",
       "5           alcohol\n",
       "6     international\n",
       "7         beverages\n",
       "8              pets\n",
       "9   dry goods pasta\n",
       "10             bulk\n",
       "11    personal care\n",
       "12     meat seafood\n",
       "13           pantry\n",
       "14        breakfast\n",
       "15     canned goods\n",
       "16       dairy eggs\n",
       "17        household\n",
       "18           babies\n",
       "19           snacks\n",
       "20             deli\n",
       "21          missing"
      ]
     },
     "execution_count": 33,
     "metadata": {},
     "output_type": "execute_result"
    }
   ],
   "source": [
    "# Display all the departments\n",
    "df_dep"
   ]
  },
  {
   "cell_type": "code",
   "execution_count": 34,
   "id": "08571c8e",
   "metadata": {
    "scrolled": false
   },
   "outputs": [
    {
     "data": {
      "text/plain": [
       "<Axes: xlabel='department_id'>"
      ]
     },
     "execution_count": 34,
     "metadata": {},
     "output_type": "execute_result"
    },
    {
     "data": {
      "image/png": "[encoded data removed]",
      "text/plain": [
       "<Figure size 640x480 with 1 Axes>"
      ]
     },
     "metadata": {},
     "output_type": "display_data"
    }
   ],
   "source": [
    "# Find top 5 departments with the highest sales\n",
    "df['department_id'].value_counts().head(5).plot.bar()"
   ]
  },
  {
   "cell_type": "code",
   "execution_count": 35,
   "id": "520f3a62",
   "metadata": {},
   "outputs": [
    {
     "data": {
      "image/png": "[encoded data removed]",
      "text/plain": [
       "<Figure size 640x480 with 1 Axes>"
      ]
     },
     "metadata": {},
     "output_type": "display_data"
    }
   ],
   "source": [
    "# Customize the chart\n",
    "bar_top_departments=df['department_id'].value_counts().head(5).plot.bar(color=['#BA0239','#C22F00','#0AAD0A','#FF7A9B','#ECAA01'])\n",
    "\n",
    "# Set the y-axis label to \"Frequency\"\n",
    "plt.ylabel('Frequency')\n",
    "\n",
    "# Remove x-label\n",
    "bar_top_departments.set_xlabel('')\n",
    "\n",
    "# Give the chart a title\n",
    "plt.title('Top 5 Departments')\n",
    "\n",
    "# Define the week day names\n",
    "department_name = ['Produce','Dairy eggs','Snacks','Beverages','Frozen']\n",
    "\n",
    "# Set custom labels for the x-axis\n",
    "positions = range(len(department_name))\n",
    "bar_top_departments.set_xticks(positions)\n",
    "bar_top_departments.set_xticklabels(department_name, rotation=0)\n",
    "\n",
    "# Remove borderlines\n",
    "bar_top_departments.spines['top'].set_visible(False)\n",
    "bar_top_departments.spines['right'].set_visible(False)\n"
   ]
  },
  {
   "cell_type": "code",
   "execution_count": 36,
   "id": "5e0e15ac",
   "metadata": {},
   "outputs": [],
   "source": [
    "#Export  the chart as png file\n",
    "bar_top_departments.figure.savefig(r'C:\\Users\\Admin\\Desktop\\Data Tasks\\Data Immersion\\Achievement 4\\Instacart Basket Analysis\\04 Analysis\\Visualizations\\bar_top_departments.png',bbox_inches='tight',facecolor='#FAF1E5',dpi=200,transparent=True)"
   ]
  },
  {
   "cell_type": "code",
   "execution_count": null,
   "id": "54a3735c",
   "metadata": {},
   "outputs": [],
   "source": [
    "df_high.groupby('department_id').agg({'product_name':['mean']})"
   ]
  },
  {
   "cell_type": "code",
   "execution_count": 159,
   "id": "b2f334fa",
   "metadata": {},
   "outputs": [
    {
     "data": {
      "text/plain": [
       "Index(['order_id', 'user_id', 'order_number', 'orders_day_of_week',\n",
       "       'order_hour_of_day', 'days_since_prior_order', 'product_id',\n",
       "       'add_to_cart_order', 'reordered', 'product_name', 'aisle_id',\n",
       "       'department_id', 'prices', 'price_label', 'busiest_days',\n",
       "       'busiest_period_of_day', 'max_order', 'loyalty_flag', 'prices_mean',\n",
       "       'spending_flag', 'order_median', 'frequency_flag', 'gender', 'state',\n",
       "       'age', 'date_joined', 'n_dependants', 'fam_status', 'income',\n",
       "       'geographic_area', 'customer_activity', 'age_group', 'income_power'],\n",
       "      dtype='object')"
      ]
     },
     "execution_count": 159,
     "metadata": {},
     "output_type": "execute_result"
    }
   ],
   "source": [
    "df_high.columns"
   ]
  },
  {
   "cell_type": "markdown",
   "id": "0738f5b6",
   "metadata": {},
   "source": [
    "## Top Products"
   ]
  },
  {
   "cell_type": "code",
   "execution_count": 117,
   "id": "f0690d09",
   "metadata": {},
   "outputs": [
    {
     "data": {
      "text/plain": [
       "product_name\n",
       "Banana                    453164\n",
       "Bag of Organic Bananas    366403\n",
       "Organic Strawberries      255988\n",
       "Organic Baby Spinach      231772\n",
       "Organic Hass Avocado      206799\n",
       "Organic Avocado           168267\n",
       "Large Lemon               145397\n",
       "Strawberries              136330\n",
       "Limes                     134751\n",
       "Organic Whole Milk        133514\n",
       "Name: count, dtype: int64"
      ]
     },
     "execution_count": 117,
     "metadata": {},
     "output_type": "execute_result"
    }
   ],
   "source": [
    "df_high['product_name'].value_counts().head(10)"
   ]
  },
  {
   "cell_type": "code",
   "execution_count": 119,
   "id": "9f8d87d1",
   "metadata": {},
   "outputs": [],
   "source": [
    "df_high['product_name'].value_counts().head(10).to_clipboard()"
   ]
  },
  {
   "cell_type": "markdown",
   "id": "f38ab030",
   "metadata": {},
   "source": [
    "# Customer Profiling\n",
    "To achieve more relevant results, the dataframe with high activity customers will be used."
   ]
  },
  {
   "cell_type": "code",
   "execution_count": 37,
   "id": "e8f1ae55",
   "metadata": {},
   "outputs": [
    {
     "data": {
      "text/plain": [
       "162631"
      ]
     },
     "execution_count": 37,
     "metadata": {},
     "output_type": "execute_result"
    }
   ],
   "source": [
    "# Calculate the total number of customers\n",
    "df_high['user_id'].nunique()"
   ]
  },
  {
   "cell_type": "code",
   "execution_count": 38,
   "id": "042bca64",
   "metadata": {},
   "outputs": [
    {
     "data": {
      "text/plain": [
       "count    3.096456e+07\n",
       "mean     4.946803e+01\n",
       "std      1.848528e+01\n",
       "min      1.800000e+01\n",
       "25%      3.300000e+01\n",
       "50%      4.900000e+01\n",
       "75%      6.500000e+01\n",
       "max      8.100000e+01\n",
       "Name: age, dtype: float64"
      ]
     },
     "execution_count": 38,
     "metadata": {},
     "output_type": "execute_result"
    }
   ],
   "source": [
    "# Check descriptive statostics\n",
    "df_high['age'].describe()"
   ]
  },
  {
   "cell_type": "markdown",
   "id": "ab36c4f5",
   "metadata": {},
   "source": [
    "## Order Habits in Conjuction with Age Group and Family Status "
   ]
  },
  {
   "cell_type": "markdown",
   "id": "5beaf034",
   "metadata": {},
   "source": [
    "###  Age Groups"
   ]
  },
  {
   "cell_type": "code",
   "execution_count": 40,
   "id": "c20e383c",
   "metadata": {},
   "outputs": [
    {
     "name": "stderr",
     "output_type": "stream",
     "text": [
      "C:\\Users\\Admin\\AppData\\Local\\Temp\\ipykernel_8148\\4226742568.py:1: SettingWithCopyWarning: \n",
      "A value is trying to be set on a copy of a slice from a DataFrame.\n",
      "Try using .loc[row_indexer,col_indexer] = value instead\n",
      "\n",
      "See the caveats in the documentation: https://pandas.pydata.org/pandas-docs/stable/user_guide/indexing.html#returning-a-view-versus-a-copy\n",
      "  df_high.loc[df_high['age'] <=35, 'age_group'] = 'Young adult'\n"
     ]
    }
   ],
   "source": [
    "df_high.loc[df_high['age'] <=35, 'age_group'] = 'Young adult'"
   ]
  },
  {
   "cell_type": "code",
   "execution_count": 41,
   "id": "dc06df14",
   "metadata": {},
   "outputs": [],
   "source": [
    "df_high.loc[(df_high['age'] >36) & (df_high['age'] <=50), 'age_group'] = 'Middle aged adult'"
   ]
  },
  {
   "cell_type": "code",
   "execution_count": 42,
   "id": "66c9685c",
   "metadata": {},
   "outputs": [],
   "source": [
    "df_high.loc[(df_high['age'] >51) & (df_high['age'] <=65), 'age_group'] = 'Senior adult'"
   ]
  },
  {
   "cell_type": "code",
   "execution_count": 43,
   "id": "f8b6469b",
   "metadata": {},
   "outputs": [],
   "source": [
    "df_high.loc[df_high['age'] >66, 'age_group'] = 'Elderly adult'"
   ]
  },
  {
   "cell_type": "code",
   "execution_count": 44,
   "id": "ea3921d2",
   "metadata": {},
   "outputs": [
    {
     "data": {
      "text/plain": [
       "age_group\n",
       "Young adult          8738805\n",
       "Elderly adult        7276230\n",
       "Middle aged adult    6817611\n",
       "Senior adult         6724447\n",
       "Name: count, dtype: int64"
      ]
     },
     "execution_count": 44,
     "metadata": {},
     "output_type": "execute_result"
    }
   ],
   "source": [
    "df_high['age_group'].value_counts()"
   ]
  },
  {
   "cell_type": "code",
   "execution_count": 45,
   "id": "e86d4321",
   "metadata": {},
   "outputs": [],
   "source": [
    "df_high['age_group'].value_counts().to_clipboard()"
   ]
  },
  {
   "cell_type": "markdown",
   "id": "4f000aeb",
   "metadata": {},
   "source": [
    "### Relationship between Age, Marital Status, and Spending Habits"
   ]
  },
  {
   "cell_type": "code",
   "execution_count": 121,
   "id": "eb58ccb4",
   "metadata": {},
   "outputs": [],
   "source": [
    "crosstab_age_fam_stat = pd.crosstab(df_high['age_group'], df_high['fam_status'], dropna = False)"
   ]
  },
  {
   "cell_type": "code",
   "execution_count": 47,
   "id": "684fbba7",
   "metadata": {},
   "outputs": [
    {
     "data": {
      "text/html": [
       "<div>\n",
       "<style scoped>\n",
       "    .dataframe tbody tr th:only-of-type {\n",
       "        vertical-align: middle;\n",
       "    }\n",
       "\n",
       "    .dataframe tbody tr th {\n",
       "        vertical-align: top;\n",
       "    }\n",
       "\n",
       "    .dataframe thead th {\n",
       "        text-align: right;\n",
       "    }\n",
       "</style>\n",
       "<table border=\"1\" class=\"dataframe\">\n",
       "  <thead>\n",
       "    <tr style=\"text-align: right;\">\n",
       "      <th>fam_status</th>\n",
       "      <th>divorced/widowed</th>\n",
       "      <th>living with parents and siblings</th>\n",
       "      <th>married</th>\n",
       "      <th>single</th>\n",
       "    </tr>\n",
       "    <tr>\n",
       "      <th>age_group</th>\n",
       "      <th></th>\n",
       "      <th></th>\n",
       "      <th></th>\n",
       "      <th></th>\n",
       "    </tr>\n",
       "  </thead>\n",
       "  <tbody>\n",
       "    <tr>\n",
       "      <th>Elderly adult</th>\n",
       "      <td>1798722</td>\n",
       "      <td>0</td>\n",
       "      <td>5477508</td>\n",
       "      <td>0</td>\n",
       "    </tr>\n",
       "    <tr>\n",
       "      <th>Middle aged adult</th>\n",
       "      <td>0</td>\n",
       "      <td>0</td>\n",
       "      <td>5130447</td>\n",
       "      <td>1687164</td>\n",
       "    </tr>\n",
       "    <tr>\n",
       "      <th>Senior adult</th>\n",
       "      <td>739550</td>\n",
       "      <td>0</td>\n",
       "      <td>4990640</td>\n",
       "      <td>994257</td>\n",
       "    </tr>\n",
       "    <tr>\n",
       "      <th>Young adult</th>\n",
       "      <td>0</td>\n",
       "      <td>1481172</td>\n",
       "      <td>5079943</td>\n",
       "      <td>2177690</td>\n",
       "    </tr>\n",
       "  </tbody>\n",
       "</table>\n",
       "</div>"
      ],
      "text/plain": [
       "fam_status         divorced/widowed  living with parents and siblings  \\\n",
       "age_group                                                               \n",
       "Elderly adult               1798722                                 0   \n",
       "Middle aged adult                 0                                 0   \n",
       "Senior adult                 739550                                 0   \n",
       "Young adult                       0                           1481172   \n",
       "\n",
       "fam_status         married   single  \n",
       "age_group                            \n",
       "Elderly adult      5477508        0  \n",
       "Middle aged adult  5130447  1687164  \n",
       "Senior adult       4990640   994257  \n",
       "Young adult        5079943  2177690  "
      ]
     },
     "execution_count": 47,
     "metadata": {},
     "output_type": "execute_result"
    }
   ],
   "source": [
    "crosstab_age_fam_stat"
   ]
  },
  {
   "cell_type": "code",
   "execution_count": 48,
   "id": "b3e16ab7",
   "metadata": {},
   "outputs": [
    {
     "data": {
      "image/png": "[encoded data removed]",
      "text/plain": [
       "<Figure size 640x480 with 1 Axes>"
      ]
     },
     "metadata": {},
     "output_type": "display_data"
    }
   ],
   "source": [
    "# Create and customize the chart\n",
    "barh_spending_habit=crosstab_age_fam_stat.plot.barh(color=['#C22F00','#0AAD0A','#003D29','#ECAA01'])\n",
    "\n",
    "# Remove y-label\n",
    "plt.ylabel('')\n",
    "\n",
    "# Set the x-axis label to \"Frequency\"\n",
    "plt.xlabel('Frequency')\n",
    "\n",
    "# Give the chart a title\n",
    "plt.title('Customer Spending Habits Depending on Family Status and Age Group')\n",
    "\n",
    "plt.legend(loc='center left', bbox_to_anchor=(1.2, 0.5))\n",
    "\n",
    "# Remove borderlines\n",
    "barh_spending_habit.spines['top'].set_visible(False)\n",
    "barh_spending_habit.spines['right'].set_visible(False)\n"
   ]
  },
  {
   "cell_type": "code",
   "execution_count": 49,
   "id": "3d2a171a",
   "metadata": {},
   "outputs": [],
   "source": [
    "#Export  the chart as png file\n",
    "barh_spending_habit.figure.savefig(r'C:\\Users\\Admin\\Desktop\\Data Tasks\\Data Immersion\\Achievement 4\\Instacart Basket Analysis\\04 Analysis\\Visualizations\\barh_spending_habit.png',bbox_inches='tight',facecolor='#FAF1E5',dpi=200,transparent=True)"
   ]
  },
  {
   "cell_type": "markdown",
   "id": "d8c7f5bf",
   "metadata": {},
   "source": [
    "### Consumption Distribution by Family Status"
   ]
  },
  {
   "cell_type": "code",
   "execution_count": 50,
   "id": "f47ec5bd",
   "metadata": {},
   "outputs": [
    {
     "data": {
      "text/html": [
       "<div>\n",
       "<style scoped>\n",
       "    .dataframe tbody tr th:only-of-type {\n",
       "        vertical-align: middle;\n",
       "    }\n",
       "\n",
       "    .dataframe tbody tr th {\n",
       "        vertical-align: top;\n",
       "    }\n",
       "\n",
       "    .dataframe thead th {\n",
       "        text-align: right;\n",
       "    }\n",
       "</style>\n",
       "<table border=\"1\" class=\"dataframe\">\n",
       "  <thead>\n",
       "    <tr style=\"text-align: right;\">\n",
       "      <th></th>\n",
       "      <th>prices</th>\n",
       "    </tr>\n",
       "    <tr>\n",
       "      <th>fam_status</th>\n",
       "      <th></th>\n",
       "    </tr>\n",
       "  </thead>\n",
       "  <tbody>\n",
       "    <tr>\n",
       "      <th>married</th>\n",
       "      <td>169362208.0</td>\n",
       "    </tr>\n",
       "    <tr>\n",
       "      <th>single</th>\n",
       "      <td>39647128.0</td>\n",
       "    </tr>\n",
       "    <tr>\n",
       "      <th>divorced/widowed</th>\n",
       "      <td>20632364.0</td>\n",
       "    </tr>\n",
       "    <tr>\n",
       "      <th>living with parents and siblings</th>\n",
       "      <td>11552531.0</td>\n",
       "    </tr>\n",
       "  </tbody>\n",
       "</table>\n",
       "</div>"
      ],
      "text/plain": [
       "                                       prices\n",
       "fam_status                                   \n",
       "married                           169362208.0\n",
       "single                             39647128.0\n",
       "divorced/widowed                   20632364.0\n",
       "living with parents and siblings   11552531.0"
      ]
     },
     "execution_count": 50,
     "metadata": {},
     "output_type": "execute_result"
    }
   ],
   "source": [
    "df_high.groupby('fam_status').agg({'prices':'sum'}).sort_values(by='prices', ascending=False)\n"
   ]
  },
  {
   "cell_type": "code",
   "execution_count": 51,
   "id": "24bd2511",
   "metadata": {},
   "outputs": [
    {
     "name": "stdout",
     "output_type": "stream",
     "text": [
      "                                       prices  percentage\n",
      "fam_status                                               \n",
      "married                           169362208.0   70.218185\n",
      "single                             39647128.0   16.437841\n",
      "divorced/widowed                   20632364.0    8.554253\n",
      "living with parents and siblings   11552531.0    4.789721\n"
     ]
    }
   ],
   "source": [
    "perc_prices = df_high.groupby('fam_status').agg({'prices':'sum'}).sort_values(by='prices', ascending=False)\n",
    "\n",
    "# Calculate the total sum of prices\n",
    "total_prices_sum = perc_prices['prices'].sum()\n",
    "\n",
    "# Calculate the percentages of each group's contribution\n",
    "perc_prices['percentage'] = (perc_prices['prices'] / total_prices_sum) * 100\n",
    "\n",
    "# Display the result with percentages\n",
    "print(perc_prices)\n"
   ]
  },
  {
   "cell_type": "code",
   "execution_count": 52,
   "id": "4524dec1",
   "metadata": {
    "scrolled": false
   },
   "outputs": [
    {
     "data": {
      "image/png": "[encoded data removed]",
      "text/plain": [
       "<Figure size 400x400 with 1 Axes>"
      ]
     },
     "metadata": {},
     "output_type": "display_data"
    }
   ],
   "source": [
    "# Create a donut chart\n",
    "plt.figure(figsize=(4,4))\n",
    "pie_revenue_fam_status=plt.pie(perc_prices['percentage'], \n",
    "                               labels=['Married','Single','Divorced','Living with Parents and Siblings'],\n",
    "                               autopct='%1.1f%%', \n",
    "                               startangle=140,\n",
    "                               colors=['#003D29','#ECAA01','#C22F00','#0AAD0A'],\n",
    "                               wedgeprops={'width': 0.5, 'edgecolor': 'w'},\n",
    "                               textprops={'fontsize': 14})\n",
    "\n",
    "\n",
    "plt.title('Consumption Distribution by Family Status',y=1.1)\n",
    "\n",
    "plt.legend('')\n",
    "\n",
    "plt.savefig(r'C:\\Users\\Admin\\Desktop\\Data Tasks\\Data Immersion\\Achievement 4\\Instacart Basket Analysis\\04 Analysis\\Visualizations\\pie_revenue_fam_status.png',bbox_inches='tight',facecolor='#FAF1E5',dpi=200,transparent=True)\n",
    "\n",
    "# Display the pie chart\n",
    "plt.axis('equal')  # Equal aspect ratio ensures that pie is drawn as a circle.\n",
    "plt.show()"
   ]
  },
  {
   "cell_type": "code",
   "execution_count": 53,
   "id": "943e2b4c",
   "metadata": {},
   "outputs": [],
   "source": [
    "orders_day_of_week_fam_stat = pd.crosstab(df_high['orders_day_of_week'], df_high['fam_status'], dropna = False)"
   ]
  },
  {
   "cell_type": "code",
   "execution_count": 54,
   "id": "5ad0a2c0",
   "metadata": {
    "scrolled": true
   },
   "outputs": [
    {
     "data": {
      "text/html": [
       "<div>\n",
       "<style scoped>\n",
       "    .dataframe tbody tr th:only-of-type {\n",
       "        vertical-align: middle;\n",
       "    }\n",
       "\n",
       "    .dataframe tbody tr th {\n",
       "        vertical-align: top;\n",
       "    }\n",
       "\n",
       "    .dataframe thead th {\n",
       "        text-align: right;\n",
       "    }\n",
       "</style>\n",
       "<table border=\"1\" class=\"dataframe\">\n",
       "  <thead>\n",
       "    <tr style=\"text-align: right;\">\n",
       "      <th>fam_status</th>\n",
       "      <th>divorced/widowed</th>\n",
       "      <th>living with parents and siblings</th>\n",
       "      <th>married</th>\n",
       "      <th>single</th>\n",
       "    </tr>\n",
       "    <tr>\n",
       "      <th>orders_day_of_week</th>\n",
       "      <th></th>\n",
       "      <th></th>\n",
       "      <th></th>\n",
       "      <th></th>\n",
       "    </tr>\n",
       "  </thead>\n",
       "  <tbody>\n",
       "    <tr>\n",
       "      <th>0</th>\n",
       "      <td>502506</td>\n",
       "      <td>280828</td>\n",
       "      <td>4150704</td>\n",
       "      <td>974572</td>\n",
       "    </tr>\n",
       "    <tr>\n",
       "      <th>1</th>\n",
       "      <td>459198</td>\n",
       "      <td>259482</td>\n",
       "      <td>3789854</td>\n",
       "      <td>903152</td>\n",
       "    </tr>\n",
       "    <tr>\n",
       "      <th>2</th>\n",
       "      <td>343839</td>\n",
       "      <td>192366</td>\n",
       "      <td>2829759</td>\n",
       "      <td>658742</td>\n",
       "    </tr>\n",
       "    <tr>\n",
       "      <th>3</th>\n",
       "      <td>315320</td>\n",
       "      <td>174418</td>\n",
       "      <td>2578075</td>\n",
       "      <td>601722</td>\n",
       "    </tr>\n",
       "    <tr>\n",
       "      <th>4</th>\n",
       "      <td>306704</td>\n",
       "      <td>173214</td>\n",
       "      <td>2546521</td>\n",
       "      <td>598555</td>\n",
       "    </tr>\n",
       "    <tr>\n",
       "      <th>5</th>\n",
       "      <td>348434</td>\n",
       "      <td>195460</td>\n",
       "      <td>2824095</td>\n",
       "      <td>665740</td>\n",
       "    </tr>\n",
       "    <tr>\n",
       "      <th>6</th>\n",
       "      <td>369270</td>\n",
       "      <td>205404</td>\n",
       "      <td>3024703</td>\n",
       "      <td>691927</td>\n",
       "    </tr>\n",
       "  </tbody>\n",
       "</table>\n",
       "</div>"
      ],
      "text/plain": [
       "fam_status          divorced/widowed  living with parents and siblings  \\\n",
       "orders_day_of_week                                                       \n",
       "0                             502506                            280828   \n",
       "1                             459198                            259482   \n",
       "2                             343839                            192366   \n",
       "3                             315320                            174418   \n",
       "4                             306704                            173214   \n",
       "5                             348434                            195460   \n",
       "6                             369270                            205404   \n",
       "\n",
       "fam_status          married  single  \n",
       "orders_day_of_week                   \n",
       "0                   4150704  974572  \n",
       "1                   3789854  903152  \n",
       "2                   2829759  658742  \n",
       "3                   2578075  601722  \n",
       "4                   2546521  598555  \n",
       "5                   2824095  665740  \n",
       "6                   3024703  691927  "
      ]
     },
     "execution_count": 54,
     "metadata": {},
     "output_type": "execute_result"
    }
   ],
   "source": [
    "orders_day_of_week_fam_stat"
   ]
  },
  {
   "cell_type": "code",
   "execution_count": 55,
   "id": "6de84fc5",
   "metadata": {
    "scrolled": true
   },
   "outputs": [
    {
     "data": {
      "image/png": "[encoded data removed]",
      "text/plain": [
       "<Figure size 600x400 with 1 Axes>"
      ]
     },
     "metadata": {},
     "output_type": "display_data"
    }
   ],
   "source": [
    "# Define the x-axis values (days of the week)\n",
    "days_of_week = ['Sat', 'Sun', 'Mon', 'Tue', 'Wed', 'Thu', 'Fri']\n",
    "\n",
    "# Define custom colors for the lines\n",
    "custom_colors =['#C22F00','#0AAD0A','#003D29','#ECAA01']\n",
    "\n",
    "# Create a line chart from the crosstab\n",
    "plt.figure(figsize=(6, 4))\n",
    "for i, column in enumerate(orders_day_of_week_fam_stat.columns):\n",
    "    plt.plot(days_of_week, orders_day_of_week_fam_stat[column], marker='o', label=column,color=custom_colors[i % len(custom_colors)]  # Cycle through custom colors\n",
    "    )\n",
    "\n",
    "# Add labels and title\n",
    "plt.xlabel('Day of the Week')\n",
    "plt.ylabel('Count')\n",
    "plt.title('Orders by Day of the Week and Family Status')\n",
    "\n",
    "# Remove the top and right spines\n",
    "ax = plt.gca()\n",
    "ax.spines['top'].set_visible(False)\n",
    "ax.spines['right'].set_visible(False)\n",
    "\n",
    "# Save the chart to a file (e.g., PNG format)\n",
    "plt.savefig(r'C:\\Users\\Admin\\Desktop\\Data Tasks\\Data Immersion\\Achievement 4\\Instacart Basket Analysis\\04 Analysis\\Visualizations\\line_orders_day_of_week_fam_stat.png',bbox_inches='tight',facecolor='#FAF1E5',dpi=200,transparent=True)\n",
    "\n",
    "# Show the line chart\n",
    "plt.tight_layout()  # Ensure labels fit within the figure\n",
    "plt.show()\n"
   ]
  },
  {
   "cell_type": "markdown",
   "id": "94bafac3",
   "metadata": {},
   "source": [
    "### Products Consumed According to Family Status"
   ]
  },
  {
   "cell_type": "code",
   "execution_count": 137,
   "id": "8410df91",
   "metadata": {},
   "outputs": [
    {
     "data": {
      "text/plain": [
       "fam_status\n",
       "married                             21743711\n",
       "single                               5094410\n",
       "divorced/widowed                     2645271\n",
       "living with parents and siblings     1481172\n",
       "Name: count, dtype: int64"
      ]
     },
     "execution_count": 137,
     "metadata": {},
     "output_type": "execute_result"
    }
   ],
   "source": [
    "df_high['fam_status'].value_counts()"
   ]
  },
  {
   "cell_type": "code",
   "execution_count": 138,
   "id": "e2d534d9",
   "metadata": {},
   "outputs": [],
   "source": [
    "#Group by family status\n",
    "group_period_of_day=df_high.groupby('fam_status')"
   ]
  },
  {
   "cell_type": "code",
   "execution_count": 139,
   "id": "8d0c8563",
   "metadata": {},
   "outputs": [
    {
     "data": {
      "text/plain": [
       "product_name\n",
       "Banana                    317498\n",
       "Bag of Organic Bananas    257309\n",
       "Organic Strawberries      179661\n",
       "Organic Baby Spinach      162724\n",
       "Organic Hass Avocado      145250\n",
       "Organic Avocado           118714\n",
       "Large Lemon               102192\n",
       "Strawberries               95896\n",
       "Limes                      94474\n",
       "Organic Whole Milk         94046\n",
       "Name: count, dtype: int64"
      ]
     },
     "execution_count": 139,
     "metadata": {},
     "output_type": "execute_result"
    }
   ],
   "source": [
    "group_period_of_day['product_name'].value_counts().loc['married'].head(10)"
   ]
  },
  {
   "cell_type": "code",
   "execution_count": 140,
   "id": "b0240fb3",
   "metadata": {},
   "outputs": [
    {
     "data": {
      "text/plain": [
       "product_name\n",
       "Banana                    75054\n",
       "Bag of Organic Bananas    60233\n",
       "Organic Strawberries      42036\n",
       "Organic Baby Spinach      38600\n",
       "Organic Hass Avocado      34177\n",
       "Organic Avocado           27644\n",
       "Large Lemon               24148\n",
       "Strawberries              22908\n",
       "Limes                     22432\n",
       "Organic Whole Milk        21941\n",
       "Name: count, dtype: int64"
      ]
     },
     "execution_count": 140,
     "metadata": {},
     "output_type": "execute_result"
    }
   ],
   "source": [
    "group_period_of_day['product_name'].value_counts().loc['single'].head(10)"
   ]
  },
  {
   "cell_type": "code",
   "execution_count": 141,
   "id": "6256a78f",
   "metadata": {},
   "outputs": [
    {
     "data": {
      "text/plain": [
       "product_name\n",
       "Banana                    38556\n",
       "Bag of Organic Bananas    31553\n",
       "Organic Strawberries      22419\n",
       "Organic Baby Spinach      19328\n",
       "Organic Hass Avocado      18068\n",
       "Organic Avocado           13907\n",
       "Large Lemon               12288\n",
       "Organic Raspberries       12060\n",
       "Limes                     11485\n",
       "Organic Whole Milk        11256\n",
       "Name: count, dtype: int64"
      ]
     },
     "execution_count": 141,
     "metadata": {},
     "output_type": "execute_result"
    }
   ],
   "source": [
    "group_period_of_day['product_name'].value_counts().loc['divorced/widowed'].head(10)"
   ]
  },
  {
   "cell_type": "code",
   "execution_count": 143,
   "id": "2a697a25",
   "metadata": {},
   "outputs": [
    {
     "data": {
      "text/plain": [
       "product_name\n",
       "Banana                    22056\n",
       "Bag of Organic Bananas    17308\n",
       "Organic Strawberries      11872\n",
       "Organic Baby Spinach      11120\n",
       "Organic Hass Avocado       9304\n",
       "Organic Avocado            8002\n",
       "Large Lemon                6769\n",
       "Limes                      6360\n",
       "Strawberries               6345\n",
       "Organic Whole Milk         6271\n",
       "Name: count, dtype: int64"
      ]
     },
     "execution_count": 143,
     "metadata": {},
     "output_type": "execute_result"
    }
   ],
   "source": [
    "group_period_of_day['product_name'].value_counts().loc['living with parents and siblings'].head(10)"
   ]
  },
  {
   "cell_type": "markdown",
   "id": "b7286773",
   "metadata": {},
   "source": [
    "### Consumption Distribution by Age"
   ]
  },
  {
   "cell_type": "code",
   "execution_count": 56,
   "id": "2d2efb6c",
   "metadata": {
    "scrolled": true
   },
   "outputs": [
    {
     "data": {
      "text/html": [
       "<div>\n",
       "<style scoped>\n",
       "    .dataframe tbody tr th:only-of-type {\n",
       "        vertical-align: middle;\n",
       "    }\n",
       "\n",
       "    .dataframe tbody tr th {\n",
       "        vertical-align: top;\n",
       "    }\n",
       "\n",
       "    .dataframe thead th {\n",
       "        text-align: right;\n",
       "    }\n",
       "</style>\n",
       "<table border=\"1\" class=\"dataframe\">\n",
       "  <thead>\n",
       "    <tr style=\"text-align: right;\">\n",
       "      <th></th>\n",
       "      <th>prices</th>\n",
       "    </tr>\n",
       "    <tr>\n",
       "      <th>age_group</th>\n",
       "      <th></th>\n",
       "    </tr>\n",
       "  </thead>\n",
       "  <tbody>\n",
       "    <tr>\n",
       "      <th>Young adult</th>\n",
       "      <td>68014040.0</td>\n",
       "    </tr>\n",
       "    <tr>\n",
       "      <th>Elderly adult</th>\n",
       "      <td>56687136.0</td>\n",
       "    </tr>\n",
       "    <tr>\n",
       "      <th>Middle aged adult</th>\n",
       "      <td>53152816.0</td>\n",
       "    </tr>\n",
       "    <tr>\n",
       "      <th>Senior adult</th>\n",
       "      <td>52361476.0</td>\n",
       "    </tr>\n",
       "  </tbody>\n",
       "</table>\n",
       "</div>"
      ],
      "text/plain": [
       "                       prices\n",
       "age_group                    \n",
       "Young adult        68014040.0\n",
       "Elderly adult      56687136.0\n",
       "Middle aged adult  53152816.0\n",
       "Senior adult       52361476.0"
      ]
     },
     "execution_count": 56,
     "metadata": {},
     "output_type": "execute_result"
    }
   ],
   "source": [
    "df_high.groupby('age_group').agg({'prices':'sum'}).sort_values(by='prices', ascending=False)"
   ]
  },
  {
   "cell_type": "code",
   "execution_count": 57,
   "id": "0d47a496",
   "metadata": {},
   "outputs": [
    {
     "name": "stdout",
     "output_type": "stream",
     "text": [
      "                       prices  percentage\n",
      "age_group                                \n",
      "Young adult        68014040.0   29.543648\n",
      "Elderly adult      56687136.0   24.623514\n",
      "Middle aged adult  53152816.0   23.088291\n",
      "Senior adult       52361476.0   22.744553\n"
     ]
    }
   ],
   "source": [
    "perc_prices_age = df_high.groupby('age_group').agg({'prices':'sum'}).sort_values(by='prices', ascending=False)\n",
    "\n",
    "# Calculate the total sum of prices\n",
    "total_prices_sum = perc_prices_age['prices'].sum()\n",
    "\n",
    "# Calculate the percentages of each group's contribution\n",
    "perc_prices_age['percentage'] = (perc_prices_age['prices'] / total_prices_sum) * 100\n",
    "\n",
    "# Display the result with percentages\n",
    "print(perc_prices_age)\n"
   ]
  },
  {
   "cell_type": "code",
   "execution_count": 79,
   "id": "fc6d4735",
   "metadata": {
    "scrolled": true
   },
   "outputs": [
    {
     "data": {
      "image/png": "[encoded data removed]",
      "text/plain": [
       "<Figure size 400x400 with 1 Axes>"
      ]
     },
     "metadata": {},
     "output_type": "display_data"
    }
   ],
   "source": [
    "# Create a donut chart\n",
    "plt.figure(figsize=(4, 4))\n",
    "pie_revenue_age=plt.pie(perc_prices_age['percentage'], \n",
    "                               labels=['Young adult','Elderly adult','Middle aged adult','Senior adult'],\n",
    "                               autopct='%1.1f%%', \n",
    "                               startangle=140,\n",
    "                               colors=['#003D29','#ECAA01','#C22F00','#0AAD0A'],\n",
    "                               wedgeprops={'width': 0.5, 'edgecolor': 'w'},\n",
    "                               textprops={'fontsize': 14})\n",
    "\n",
    "\n",
    "plt.title('Consumption Distribution by Age-group',y=1.1)\n",
    "\n",
    "plt.legend('')\n",
    "\n",
    "plt.savefig(r'C:\\Users\\Admin\\Desktop\\Data Tasks\\Data Immersion\\Achievement 4\\Instacart Basket Analysis\\04 Analysis\\Visualizations\\pie_revenue_age.png',bbox_inches='tight',facecolor='#FAF1E5',dpi=200,transparent=True)\n",
    "\n",
    "# Display the pie chart\n",
    "plt.axis('equal')  # Equal aspect ratio ensures that pie is drawn as a circle.\n",
    "plt.show()"
   ]
  },
  {
   "cell_type": "code",
   "execution_count": null,
   "id": "f4c6ae4d",
   "metadata": {},
   "outputs": [],
   "source": []
  },
  {
   "cell_type": "markdown",
   "id": "3971531a",
   "metadata": {},
   "source": [
    "## Order Habits in Conjuction with Income"
   ]
  },
  {
   "cell_type": "code",
   "execution_count": 59,
   "id": "d0570d42",
   "metadata": {},
   "outputs": [
    {
     "data": {
      "text/plain": [
       "count    3.096456e+07\n",
       "mean     9.967587e+04\n",
       "std      4.314187e+04\n",
       "min      2.590300e+04\n",
       "25%      6.729200e+04\n",
       "50%      9.676500e+04\n",
       "75%      1.281020e+05\n",
       "max      5.939010e+05\n",
       "Name: income, dtype: float64"
      ]
     },
     "execution_count": 59,
     "metadata": {},
     "output_type": "execute_result"
    }
   ],
   "source": [
    "# Check descriptive statostics\n",
    "df_high['income'].describe()"
   ]
  },
  {
   "cell_type": "code",
   "execution_count": 60,
   "id": "0a3bea83",
   "metadata": {},
   "outputs": [
    {
     "data": {
      "text/plain": [
       "0    72344\n",
       "Name: income, dtype: int32"
      ]
     },
     "execution_count": 60,
     "metadata": {},
     "output_type": "execute_result"
    }
   ],
   "source": [
    "# Find mode\n",
    "df_high['income'].mode()"
   ]
  },
  {
   "cell_type": "markdown",
   "id": "ee21f0ea",
   "metadata": {},
   "source": [
    "### Create an Income Flag"
   ]
  },
  {
   "cell_type": "code",
   "execution_count": 61,
   "id": "fc6456ed",
   "metadata": {},
   "outputs": [
    {
     "name": "stderr",
     "output_type": "stream",
     "text": [
      "C:\\Users\\Admin\\AppData\\Local\\Temp\\ipykernel_8148\\3063953979.py:1: SettingWithCopyWarning: \n",
      "A value is trying to be set on a copy of a slice from a DataFrame.\n",
      "Try using .loc[row_indexer,col_indexer] = value instead\n",
      "\n",
      "See the caveats in the documentation: https://pandas.pydata.org/pandas-docs/stable/user_guide/indexing.html#returning-a-view-versus-a-copy\n",
      "  df_high.loc[df_high['income'] <=40000, 'income_power'] = 'Low income'\n"
     ]
    }
   ],
   "source": [
    "df_high.loc[df_high['income'] <=40000, 'income_power'] = 'Low income'"
   ]
  },
  {
   "cell_type": "code",
   "execution_count": 62,
   "id": "5f9480ab",
   "metadata": {},
   "outputs": [],
   "source": [
    "df_high.loc[(df_high['income'] >40000) & (df_high['income'] <=150000), 'income_power'] = 'Middle income'"
   ]
  },
  {
   "cell_type": "code",
   "execution_count": 63,
   "id": "e4d2aa22",
   "metadata": {},
   "outputs": [],
   "source": [
    "df_high.loc[df_high['income'] >150000, 'income_power'] = 'High income'"
   ]
  },
  {
   "cell_type": "code",
   "execution_count": 64,
   "id": "579f2c31",
   "metadata": {},
   "outputs": [
    {
     "data": {
      "text/plain": [
       "income_power\n",
       "Middle income    25458005\n",
       "High income       3894534\n",
       "Low income        1612025\n",
       "Name: count, dtype: int64"
      ]
     },
     "execution_count": 64,
     "metadata": {},
     "output_type": "execute_result"
    }
   ],
   "source": [
    "# Check new column\n",
    "df_high['income_power'].value_counts()"
   ]
  },
  {
   "cell_type": "markdown",
   "id": "93a4c1e2",
   "metadata": {},
   "source": [
    "# Customer’s Loyalty Status"
   ]
  },
  {
   "cell_type": "code",
   "execution_count": 65,
   "id": "b16acf16",
   "metadata": {},
   "outputs": [
    {
     "data": {
      "text/plain": [
       "Index(['order_id', 'user_id', 'order_number', 'orders_day_of_week',\n",
       "       'order_hour_of_day', 'days_since_prior_order', 'product_id',\n",
       "       'add_to_cart_order', 'reordered', 'product_name', 'aisle_id',\n",
       "       'department_id', 'prices', 'price_label', 'busiest_days',\n",
       "       'busiest_period_of_day', 'max_order', 'loyalty_flag', 'prices_mean',\n",
       "       'spending_flag', 'order_median', 'frequency_flag', 'gender', 'state',\n",
       "       'age', 'date_joined', 'n_dependants', 'fam_status', 'income',\n",
       "       'geographic_area', 'customer_activity', 'age_group', 'income_power'],\n",
       "      dtype='object')"
      ]
     },
     "execution_count": 65,
     "metadata": {},
     "output_type": "execute_result"
    }
   ],
   "source": [
    "df_high.columns"
   ]
  },
  {
   "cell_type": "code",
   "execution_count": null,
   "id": "f0927565",
   "metadata": {},
   "outputs": [],
   "source": [
    "df_high.groupby('loyalty_flag').agg({'order_number':['max','mean']})"
   ]
  },
  {
   "cell_type": "code",
   "execution_count": 66,
   "id": "b19149e1",
   "metadata": {
    "scrolled": false
   },
   "outputs": [
    {
     "data": {
      "text/html": [
       "<div>\n",
       "<style scoped>\n",
       "    .dataframe tbody tr th:only-of-type {\n",
       "        vertical-align: middle;\n",
       "    }\n",
       "\n",
       "    .dataframe tbody tr th {\n",
       "        vertical-align: top;\n",
       "    }\n",
       "\n",
       "    .dataframe thead tr th {\n",
       "        text-align: left;\n",
       "    }\n",
       "\n",
       "    .dataframe thead tr:last-of-type th {\n",
       "        text-align: right;\n",
       "    }\n",
       "</style>\n",
       "<table border=\"1\" class=\"dataframe\">\n",
       "  <thead>\n",
       "    <tr>\n",
       "      <th></th>\n",
       "      <th colspan=\"2\" halign=\"left\">order_number</th>\n",
       "    </tr>\n",
       "    <tr>\n",
       "      <th></th>\n",
       "      <th>max</th>\n",
       "      <th>mean</th>\n",
       "    </tr>\n",
       "    <tr>\n",
       "      <th>loyalty_flag</th>\n",
       "      <th></th>\n",
       "      <th></th>\n",
       "    </tr>\n",
       "  </thead>\n",
       "  <tbody>\n",
       "    <tr>\n",
       "      <th>Loyal customer</th>\n",
       "      <td>99</td>\n",
       "      <td>32.641196</td>\n",
       "    </tr>\n",
       "    <tr>\n",
       "      <th>New customer</th>\n",
       "      <td>10</td>\n",
       "      <td>4.268295</td>\n",
       "    </tr>\n",
       "    <tr>\n",
       "      <th>Regular customer</th>\n",
       "      <td>40</td>\n",
       "      <td>12.347452</td>\n",
       "    </tr>\n",
       "  </tbody>\n",
       "</table>\n",
       "</div>"
      ],
      "text/plain": [
       "                 order_number           \n",
       "                          max       mean\n",
       "loyalty_flag                            \n",
       "Loyal customer             99  32.641196\n",
       "New customer               10   4.268295\n",
       "Regular customer           40  12.347452"
      ]
     },
     "execution_count": 66,
     "metadata": {},
     "output_type": "execute_result"
    }
   ],
   "source": [
    "loyalty_flag_descriptive=df_high.groupby('loyalty_flag').agg({'order_number':['max','mean']})\n",
    "loyalty_flag_descriptive"
   ]
  },
  {
   "cell_type": "code",
   "execution_count": 67,
   "id": "99fcdbf7",
   "metadata": {},
   "outputs": [],
   "source": [
    "loyalty_flag_descriptive.to_clipboard()"
   ]
  },
  {
   "cell_type": "code",
   "execution_count": 68,
   "id": "16e83fd8",
   "metadata": {},
   "outputs": [
    {
     "data": {
      "image/png": "[encoded data removed]",
      "text/plain": [
       "<Figure size 640x480 with 1 Axes>"
      ]
     },
     "metadata": {},
     "output_type": "display_data"
    }
   ],
   "source": [
    "barh_loyalty_flag_descriptive=df_high.groupby('loyalty_flag').agg({'order_number':['max','mean']}).plot.barh(color=['#BA0239','#0AAD0A'])\n",
    "\n",
    "# Remove y-label\n",
    "plt.ylabel('')\n",
    "\n",
    "# Set the x-axis label to \"Number of Orders\"\n",
    "plt.xlabel('Number of Orders')\n",
    "\n",
    "# Add labels and title\n",
    "\n",
    "plt.legend('')\n",
    "\n",
    "# Remove borderlines\n",
    "barh_loyalty_flag_descriptive.spines['top'].set_visible(False)\n",
    "barh_loyalty_flag_descriptive.spines['right'].set_visible(False)\n"
   ]
  },
  {
   "cell_type": "code",
   "execution_count": 69,
   "id": "c2c239c2",
   "metadata": {},
   "outputs": [],
   "source": [
    "#Export  the chart as png file\n",
    "barh_loyalty_flag_descriptive.figure.savefig(r'C:\\Users\\Admin\\Desktop\\Data Tasks\\Data Immersion\\Achievement 4\\Instacart Basket Analysis\\04 Analysis\\Visualizations\\barh_loyalty_flag_descriptive.png',bbox_inches='tight',facecolor='#FAF1E5',dpi=200,transparent=True)"
   ]
  },
  {
   "cell_type": "code",
   "execution_count": 70,
   "id": "d6d8f880",
   "metadata": {},
   "outputs": [
    {
     "data": {
      "text/plain": [
       "loyalty_flag\n",
       "Regular customer    0.512740\n",
       "Loyal customer      0.332125\n",
       "New customer        0.155135\n",
       "Name: proportion, dtype: float64"
      ]
     },
     "execution_count": 70,
     "metadata": {},
     "output_type": "execute_result"
    }
   ],
   "source": [
    "# Calculate the loyalty distribution\n",
    "pie_loyalty=df_high['loyalty_flag'].value_counts(normalize=True)\n",
    "pie_loyalty"
   ]
  },
  {
   "cell_type": "code",
   "execution_count": 101,
   "id": "c1b3b5c8",
   "metadata": {},
   "outputs": [
    {
     "data": {
      "image/png": "[encoded data removed]",
      "text/plain": [
       "<Figure size 400x400 with 1 Axes>"
      ]
     },
     "metadata": {},
     "output_type": "display_data"
    }
   ],
   "source": [
    "# Create a donut chart\n",
    "plt.figure(figsize=(4, 4))\n",
    "\n",
    "# Define colors for the pie chart\n",
    "colors = ['#003D29','#ECAA01','#C22F00']\n",
    "\n",
    "# Create the outer pie chart and get the wedges\n",
    "outer_pie= plt.pie(pie_loyalty, labels=pie_loyalty.index, autopct='%1.1f%%', colors=colors, startangle=140,textprops={'fontsize': 14})\n",
    "\n",
    "# Create a white circle in the center to create the donut effect\n",
    "center_circle = plt.Circle((0, 0), 0.50, fc='white')\n",
    "fig = plt.gcf()\n",
    "fig.gca().add_artist(center_circle)\n",
    "\n",
    "# Display the donut chart\n",
    "plt.axis('equal')  # Equal aspect ratio ensures the chart is circular.\n",
    "\n",
    "# Save as png\n",
    "plt.savefig(r'C:\\Users\\Admin\\Desktop\\Data Tasks\\Data Immersion\\Achievement 4\\Instacart Basket Analysis\\04 Analysis\\Visualizations\\pie_loyalty.png',bbox_inches='tight',facecolor='#FAF1E5',dpi=200,transparent=True)\n",
    "\n",
    "\n",
    "plt.show()\n"
   ]
  },
  {
   "cell_type": "markdown",
   "id": "aef9804e",
   "metadata": {},
   "source": [
    "# Spending Habits Depending on the Time of the Day"
   ]
  },
  {
   "cell_type": "code",
   "execution_count": 128,
   "id": "63f3958d",
   "metadata": {},
   "outputs": [
    {
     "data": {
      "text/plain": [
       "busiest_period_of_day\n",
       "Most orders       20180856\n",
       "Average orders     9550810\n",
       "Fewest orders      1232898\n",
       "Name: count, dtype: int64"
      ]
     },
     "execution_count": 128,
     "metadata": {},
     "output_type": "execute_result"
    }
   ],
   "source": [
    "# Show how many products sell during specific hours\n",
    "df_high['busiest_period_of_day'].value_counts()"
   ]
  },
  {
   "cell_type": "code",
   "execution_count": 129,
   "id": "27646c54",
   "metadata": {},
   "outputs": [],
   "source": [
    "# Copy to clipboard\n",
    "df_high['busiest_period_of_day'].value_counts().to_clipboard()"
   ]
  },
  {
   "cell_type": "code",
   "execution_count": 130,
   "id": "1a666ec1",
   "metadata": {},
   "outputs": [],
   "source": [
    "# Group by period of the day\n",
    "group_period_of_day=df_high.groupby('busiest_period_of_day')"
   ]
  },
  {
   "cell_type": "code",
   "execution_count": 134,
   "id": "2ee78b55",
   "metadata": {},
   "outputs": [
    {
     "data": {
      "text/plain": [
       "product_name\n",
       "Banana                    291271\n",
       "Bag of Organic Bananas    235255\n",
       "Organic Strawberries      161737\n",
       "Organic Baby Spinach      148843\n",
       "Organic Hass Avocado      133268\n",
       "Organic Avocado           109739\n",
       "Large Lemon                97039\n",
       "Limes                      90242\n",
       "Strawberries               87835\n",
       "Organic Raspberries        84219\n",
       "Name: count, dtype: int64"
      ]
     },
     "execution_count": 134,
     "metadata": {},
     "output_type": "execute_result"
    }
   ],
   "source": [
    "# Show what products sell the most in the busiest period of the day\n",
    "group_period_of_day['product_name'].value_counts().loc['Most orders'].head(10)"
   ]
  },
  {
   "cell_type": "code",
   "execution_count": 135,
   "id": "b3b2b688",
   "metadata": {},
   "outputs": [
    {
     "data": {
      "text/plain": [
       "product_name\n",
       "Banana                    144816\n",
       "Bag of Organic Bananas    116081\n",
       "Organic Strawberries       83709\n",
       "Organic Baby Spinach       73259\n",
       "Organic Hass Avocado       65504\n",
       "Organic Avocado            52155\n",
       "Organic Whole Milk         44195\n",
       "Organic Raspberries        43324\n",
       "Strawberries               42959\n",
       "Large Lemon                42891\n",
       "Name: count, dtype: int64"
      ]
     },
     "execution_count": 135,
     "metadata": {},
     "output_type": "execute_result"
    }
   ],
   "source": [
    "# Show what products sell the most when there is an average number of orders placed\n",
    "group_period_of_day['product_name'].value_counts().loc['Average orders'].head(10)"
   ]
  },
  {
   "cell_type": "code",
   "execution_count": 136,
   "id": "587d9f34",
   "metadata": {},
   "outputs": [
    {
     "data": {
      "text/plain": [
       "product_name\n",
       "Banana                    17077\n",
       "Bag of Organic Bananas    15067\n",
       "Organic Strawberries      10542\n",
       "Organic Baby Spinach       9670\n",
       "Organic Hass Avocado       8027\n",
       "Organic Avocado            6373\n",
       "Strawberries               5536\n",
       "Large Lemon                5467\n",
       "Organic Raspberries        5402\n",
       "Organic Whole Milk         5372\n",
       "Name: count, dtype: int64"
      ]
     },
     "execution_count": 136,
     "metadata": {},
     "output_type": "execute_result"
    }
   ],
   "source": [
    "# Show what products sell the most when fewest number of orders are placed\n",
    "group_period_of_day['product_name'].value_counts().loc['Fewest orders'].head(10)"
   ]
  }
 ],
 "metadata": {
  "kernelspec": {
   "display_name": "Python 3 (ipykernel)",
   "language": "python",
   "name": "python3"
  },
  "language_info": {
   "codemirror_mode": {
    "name": "ipython",
    "version": 3
   },
   "file_extension": ".py",
   "mimetype": "text/x-python",
   "name": "python",
   "nbconvert_exporter": "python",
   "pygments_lexer": "ipython3",
   "version": "3.11.4"
  }
 },
 "nbformat": 4,
 "nbformat_minor": 5
}
